{
  "cells": [
    {
      "cell_type": "markdown",
      "source": [
        "## DNS tunneling \n",
        "Attacks abuse DNS protocol to sneak malicious traffic past an organization's defenses. By using malicious domains and DNS servers, an attacker can use DNS to evade network defenses and perform data exfiltration."
      ],
      "metadata": {
        "id": "EM0GMmy0Wcq2"
      },
      "id": "EM0GMmy0Wcq2"
    },
    {
      "cell_type": "markdown",
      "id": "aac2f39e",
      "metadata": {
        "papermill": {
          "duration": 0.006975,
          "end_time": "2022-11-21T14:22:02.924947",
          "exception": false,
          "start_time": "2022-11-21T14:22:02.917972",
          "status": "completed"
        },
        "tags": [],
        "id": "aac2f39e"
      },
      "source": [
        "## Import ML Libraries (DecisionTreeClassifier)"
      ]
    },
    {
      "cell_type": "markdown",
      "source": [
        "Data source: Kaggle DNS TUNNELING DATASET:https://www.kaggle.com/datasets/saurabhshahane/dns-tunneling-queries-classification\n"
      ],
      "metadata": {
        "id": "4LUe2vlmCu_R"
      },
      "id": "4LUe2vlmCu_R"
    },
    {
      "cell_type": "code",
      "execution_count": null,
      "id": "e3c032d0",
      "metadata": {
        "execution": {
          "iopub.execute_input": "2022-11-21T14:22:02.942327Z",
          "iopub.status.busy": "2022-11-21T14:22:02.941550Z",
          "iopub.status.idle": "2022-11-21T14:22:04.187719Z",
          "shell.execute_reply": "2022-11-21T14:22:04.185265Z"
        },
        "papermill": {
          "duration": 1.258284,
          "end_time": "2022-11-21T14:22:04.190776",
          "exception": false,
          "start_time": "2022-11-21T14:22:02.932492",
          "status": "completed"
        },
        "tags": [],
        "id": "e3c032d0"
      },
      "outputs": [],
      "source": [
        "import time\n",
        "import math\n",
        "import pandas as pd\n",
        "import numpy as np\n",
        "import matplotlib.pyplot as plt\n",
        "from sklearn.model_selection import train_test_split \n",
        "from sklearn.tree import DecisionTreeClassifier\n",
        "from sklearn.metrics import accuracy_score, confusion_matrix\n",
        "from sklearn.metrics import classification_report\n",
        "from sklearn.utils import shuffle"
      ]
    },
    {
      "cell_type": "markdown",
      "id": "d0e01cfb",
      "metadata": {
        "papermill": {
          "duration": 0.010796,
          "end_time": "2022-11-21T14:22:04.210950",
          "exception": false,
          "start_time": "2022-11-21T14:22:04.200154",
          "status": "completed"
        },
        "tags": [],
        "id": "d0e01cfb"
      },
      "source": [
        "## Visualizing Dataset"
      ]
    },
    {
      "cell_type": "code",
      "execution_count": null,
      "id": "76a1de8d",
      "metadata": {
        "execution": {
          "iopub.execute_input": "2022-11-21T14:22:04.233215Z",
          "iopub.status.busy": "2022-11-21T14:22:04.232190Z",
          "iopub.status.idle": "2022-11-21T14:22:04.382396Z",
          "shell.execute_reply": "2022-11-21T14:22:04.381152Z"
        },
        "papermill": {
          "duration": 0.164166,
          "end_time": "2022-11-21T14:22:04.385537",
          "exception": false,
          "start_time": "2022-11-21T14:22:04.221371",
          "status": "completed"
        },
        "tags": [],
        "colab": {
          "base_uri": "https://localhost:8080/",
          "height": 206
        },
        "id": "76a1de8d",
        "outputId": "68647354-86dd-4525-e46f-4dcf12135672"
      },
      "outputs": [
        {
          "output_type": "execute_result",
          "data": {
            "text/plain": [
              "   Label                                              Query\n",
              "0      1                         q+Z8AnwaBA.hidemyself.org.\n",
              "1      1                         q+Z8A3wbBA.hidemyself.org.\n",
              "2      1                         q+Z8BHwcBA.hidemyself.org.\n",
              "3      1                         q+Z8BXwdBA.hidemyself.org.\n",
              "4      1  q+Z8BnweCORdAGL4+W7DB5xH1cUwcwM1gejAQoJF8hbs2J..."
            ],
            "text/html": [
              "\n",
              "  <div id=\"df-7b27226a-1511-4e78-82fb-cbd8afcacd43\">\n",
              "    <div class=\"colab-df-container\">\n",
              "      <div>\n",
              "<style scoped>\n",
              "    .dataframe tbody tr th:only-of-type {\n",
              "        vertical-align: middle;\n",
              "    }\n",
              "\n",
              "    .dataframe tbody tr th {\n",
              "        vertical-align: top;\n",
              "    }\n",
              "\n",
              "    .dataframe thead th {\n",
              "        text-align: right;\n",
              "    }\n",
              "</style>\n",
              "<table border=\"1\" class=\"dataframe\">\n",
              "  <thead>\n",
              "    <tr style=\"text-align: right;\">\n",
              "      <th></th>\n",
              "      <th>Label</th>\n",
              "      <th>Query</th>\n",
              "    </tr>\n",
              "  </thead>\n",
              "  <tbody>\n",
              "    <tr>\n",
              "      <th>0</th>\n",
              "      <td>1</td>\n",
              "      <td>q+Z8AnwaBA.hidemyself.org.</td>\n",
              "    </tr>\n",
              "    <tr>\n",
              "      <th>1</th>\n",
              "      <td>1</td>\n",
              "      <td>q+Z8A3wbBA.hidemyself.org.</td>\n",
              "    </tr>\n",
              "    <tr>\n",
              "      <th>2</th>\n",
              "      <td>1</td>\n",
              "      <td>q+Z8BHwcBA.hidemyself.org.</td>\n",
              "    </tr>\n",
              "    <tr>\n",
              "      <th>3</th>\n",
              "      <td>1</td>\n",
              "      <td>q+Z8BXwdBA.hidemyself.org.</td>\n",
              "    </tr>\n",
              "    <tr>\n",
              "      <th>4</th>\n",
              "      <td>1</td>\n",
              "      <td>q+Z8BnweCORdAGL4+W7DB5xH1cUwcwM1gejAQoJF8hbs2J...</td>\n",
              "    </tr>\n",
              "  </tbody>\n",
              "</table>\n",
              "</div>\n",
              "      <button class=\"colab-df-convert\" onclick=\"convertToInteractive('df-7b27226a-1511-4e78-82fb-cbd8afcacd43')\"\n",
              "              title=\"Convert this dataframe to an interactive table.\"\n",
              "              style=\"display:none;\">\n",
              "        \n",
              "  <svg xmlns=\"http://www.w3.org/2000/svg\" height=\"24px\"viewBox=\"0 0 24 24\"\n",
              "       width=\"24px\">\n",
              "    <path d=\"M0 0h24v24H0V0z\" fill=\"none\"/>\n",
              "    <path d=\"M18.56 5.44l.94 2.06.94-2.06 2.06-.94-2.06-.94-.94-2.06-.94 2.06-2.06.94zm-11 1L8.5 8.5l.94-2.06 2.06-.94-2.06-.94L8.5 2.5l-.94 2.06-2.06.94zm10 10l.94 2.06.94-2.06 2.06-.94-2.06-.94-.94-2.06-.94 2.06-2.06.94z\"/><path d=\"M17.41 7.96l-1.37-1.37c-.4-.4-.92-.59-1.43-.59-.52 0-1.04.2-1.43.59L10.3 9.45l-7.72 7.72c-.78.78-.78 2.05 0 2.83L4 21.41c.39.39.9.59 1.41.59.51 0 1.02-.2 1.41-.59l7.78-7.78 2.81-2.81c.8-.78.8-2.07 0-2.86zM5.41 20L4 18.59l7.72-7.72 1.47 1.35L5.41 20z\"/>\n",
              "  </svg>\n",
              "      </button>\n",
              "      \n",
              "  <style>\n",
              "    .colab-df-container {\n",
              "      display:flex;\n",
              "      flex-wrap:wrap;\n",
              "      gap: 12px;\n",
              "    }\n",
              "\n",
              "    .colab-df-convert {\n",
              "      background-color: #E8F0FE;\n",
              "      border: none;\n",
              "      border-radius: 50%;\n",
              "      cursor: pointer;\n",
              "      display: none;\n",
              "      fill: #1967D2;\n",
              "      height: 32px;\n",
              "      padding: 0 0 0 0;\n",
              "      width: 32px;\n",
              "    }\n",
              "\n",
              "    .colab-df-convert:hover {\n",
              "      background-color: #E2EBFA;\n",
              "      box-shadow: 0px 1px 2px rgba(60, 64, 67, 0.3), 0px 1px 3px 1px rgba(60, 64, 67, 0.15);\n",
              "      fill: #174EA6;\n",
              "    }\n",
              "\n",
              "    [theme=dark] .colab-df-convert {\n",
              "      background-color: #3B4455;\n",
              "      fill: #D2E3FC;\n",
              "    }\n",
              "\n",
              "    [theme=dark] .colab-df-convert:hover {\n",
              "      background-color: #434B5C;\n",
              "      box-shadow: 0px 1px 3px 1px rgba(0, 0, 0, 0.15);\n",
              "      filter: drop-shadow(0px 1px 2px rgba(0, 0, 0, 0.3));\n",
              "      fill: #FFFFFF;\n",
              "    }\n",
              "  </style>\n",
              "\n",
              "      <script>\n",
              "        const buttonEl =\n",
              "          document.querySelector('#df-7b27226a-1511-4e78-82fb-cbd8afcacd43 button.colab-df-convert');\n",
              "        buttonEl.style.display =\n",
              "          google.colab.kernel.accessAllowed ? 'block' : 'none';\n",
              "\n",
              "        async function convertToInteractive(key) {\n",
              "          const element = document.querySelector('#df-7b27226a-1511-4e78-82fb-cbd8afcacd43');\n",
              "          const dataTable =\n",
              "            await google.colab.kernel.invokeFunction('convertToInteractive',\n",
              "                                                     [key], {});\n",
              "          if (!dataTable) return;\n",
              "\n",
              "          const docLinkHtml = 'Like what you see? Visit the ' +\n",
              "            '<a target=\"_blank\" href=https://colab.research.google.com/notebooks/data_table.ipynb>data table notebook</a>'\n",
              "            + ' to learn more about interactive tables.';\n",
              "          element.innerHTML = '';\n",
              "          dataTable['output_type'] = 'display_data';\n",
              "          await google.colab.output.renderOutput(dataTable, element);\n",
              "          const docLink = document.createElement('div');\n",
              "          docLink.innerHTML = docLinkHtml;\n",
              "          element.appendChild(docLink);\n",
              "        }\n",
              "      </script>\n",
              "    </div>\n",
              "  </div>\n",
              "  "
            ]
          },
          "metadata": {},
          "execution_count": 2
        }
      ],
      "source": [
        "# first 5 rows of training dataset showing dns tunnelling queries\n",
        "training_data = pd.read_csv(\"training.csv\",names = ['Label', 'Query'])\n",
        "training_data.head()"
      ]
    },
    {
      "cell_type": "code",
      "source": [
        "training_data.shape"
      ],
      "metadata": {
        "id": "Q1Lq7-Y-T5rn",
        "colab": {
          "base_uri": "https://localhost:8080/"
        },
        "outputId": "a92887c6-6635-49fb-9381-cec1656fab30"
      },
      "id": "Q1Lq7-Y-T5rn",
      "execution_count": null,
      "outputs": [
        {
          "output_type": "execute_result",
          "data": {
            "text/plain": [
              "(15000, 2)"
            ]
          },
          "metadata": {},
          "execution_count": 3
        }
      ]
    },
    {
      "cell_type": "code",
      "execution_count": null,
      "id": "a3817965",
      "metadata": {
        "execution": {
          "iopub.execute_input": "2022-11-21T14:22:04.404409Z",
          "iopub.status.busy": "2022-11-21T14:22:04.403688Z",
          "iopub.status.idle": "2022-11-21T14:22:04.421119Z",
          "shell.execute_reply": "2022-11-21T14:22:04.419803Z"
        },
        "papermill": {
          "duration": 0.030088,
          "end_time": "2022-11-21T14:22:04.424013",
          "exception": false,
          "start_time": "2022-11-21T14:22:04.393925",
          "status": "completed"
        },
        "tags": [],
        "id": "a3817965",
        "colab": {
          "base_uri": "https://localhost:8080/",
          "height": 363
        },
        "outputId": "9c3ea672-a6e4-4191-8414-c743385bd3b7"
      },
      "outputs": [
        {
          "output_type": "execute_result",
          "data": {
            "text/plain": [
              "      Label                   Query\n",
              "6000      0             google.com.\n",
              "6001      0           facebook.com.\n",
              "6002      0        doubleclick.net.\n",
              "6003      0   google-analytics.com.\n",
              "6004      0           akamaihd.net.\n",
              "6005      0  googlesyndication.com.\n",
              "6006      0         googleapis.com.\n",
              "6007      0   googleadservices.com.\n",
              "6008      0           facebook.net.\n",
              "6009      0            youtube.com."
            ],
            "text/html": [
              "\n",
              "  <div id=\"df-5d46835b-3e5e-47b0-ae5c-86708c5043bb\">\n",
              "    <div class=\"colab-df-container\">\n",
              "      <div>\n",
              "<style scoped>\n",
              "    .dataframe tbody tr th:only-of-type {\n",
              "        vertical-align: middle;\n",
              "    }\n",
              "\n",
              "    .dataframe tbody tr th {\n",
              "        vertical-align: top;\n",
              "    }\n",
              "\n",
              "    .dataframe thead th {\n",
              "        text-align: right;\n",
              "    }\n",
              "</style>\n",
              "<table border=\"1\" class=\"dataframe\">\n",
              "  <thead>\n",
              "    <tr style=\"text-align: right;\">\n",
              "      <th></th>\n",
              "      <th>Label</th>\n",
              "      <th>Query</th>\n",
              "    </tr>\n",
              "  </thead>\n",
              "  <tbody>\n",
              "    <tr>\n",
              "      <th>6000</th>\n",
              "      <td>0</td>\n",
              "      <td>google.com.</td>\n",
              "    </tr>\n",
              "    <tr>\n",
              "      <th>6001</th>\n",
              "      <td>0</td>\n",
              "      <td>facebook.com.</td>\n",
              "    </tr>\n",
              "    <tr>\n",
              "      <th>6002</th>\n",
              "      <td>0</td>\n",
              "      <td>doubleclick.net.</td>\n",
              "    </tr>\n",
              "    <tr>\n",
              "      <th>6003</th>\n",
              "      <td>0</td>\n",
              "      <td>google-analytics.com.</td>\n",
              "    </tr>\n",
              "    <tr>\n",
              "      <th>6004</th>\n",
              "      <td>0</td>\n",
              "      <td>akamaihd.net.</td>\n",
              "    </tr>\n",
              "    <tr>\n",
              "      <th>6005</th>\n",
              "      <td>0</td>\n",
              "      <td>googlesyndication.com.</td>\n",
              "    </tr>\n",
              "    <tr>\n",
              "      <th>6006</th>\n",
              "      <td>0</td>\n",
              "      <td>googleapis.com.</td>\n",
              "    </tr>\n",
              "    <tr>\n",
              "      <th>6007</th>\n",
              "      <td>0</td>\n",
              "      <td>googleadservices.com.</td>\n",
              "    </tr>\n",
              "    <tr>\n",
              "      <th>6008</th>\n",
              "      <td>0</td>\n",
              "      <td>facebook.net.</td>\n",
              "    </tr>\n",
              "    <tr>\n",
              "      <th>6009</th>\n",
              "      <td>0</td>\n",
              "      <td>youtube.com.</td>\n",
              "    </tr>\n",
              "  </tbody>\n",
              "</table>\n",
              "</div>\n",
              "      <button class=\"colab-df-convert\" onclick=\"convertToInteractive('df-5d46835b-3e5e-47b0-ae5c-86708c5043bb')\"\n",
              "              title=\"Convert this dataframe to an interactive table.\"\n",
              "              style=\"display:none;\">\n",
              "        \n",
              "  <svg xmlns=\"http://www.w3.org/2000/svg\" height=\"24px\"viewBox=\"0 0 24 24\"\n",
              "       width=\"24px\">\n",
              "    <path d=\"M0 0h24v24H0V0z\" fill=\"none\"/>\n",
              "    <path d=\"M18.56 5.44l.94 2.06.94-2.06 2.06-.94-2.06-.94-.94-2.06-.94 2.06-2.06.94zm-11 1L8.5 8.5l.94-2.06 2.06-.94-2.06-.94L8.5 2.5l-.94 2.06-2.06.94zm10 10l.94 2.06.94-2.06 2.06-.94-2.06-.94-.94-2.06-.94 2.06-2.06.94z\"/><path d=\"M17.41 7.96l-1.37-1.37c-.4-.4-.92-.59-1.43-.59-.52 0-1.04.2-1.43.59L10.3 9.45l-7.72 7.72c-.78.78-.78 2.05 0 2.83L4 21.41c.39.39.9.59 1.41.59.51 0 1.02-.2 1.41-.59l7.78-7.78 2.81-2.81c.8-.78.8-2.07 0-2.86zM5.41 20L4 18.59l7.72-7.72 1.47 1.35L5.41 20z\"/>\n",
              "  </svg>\n",
              "      </button>\n",
              "      \n",
              "  <style>\n",
              "    .colab-df-container {\n",
              "      display:flex;\n",
              "      flex-wrap:wrap;\n",
              "      gap: 12px;\n",
              "    }\n",
              "\n",
              "    .colab-df-convert {\n",
              "      background-color: #E8F0FE;\n",
              "      border: none;\n",
              "      border-radius: 50%;\n",
              "      cursor: pointer;\n",
              "      display: none;\n",
              "      fill: #1967D2;\n",
              "      height: 32px;\n",
              "      padding: 0 0 0 0;\n",
              "      width: 32px;\n",
              "    }\n",
              "\n",
              "    .colab-df-convert:hover {\n",
              "      background-color: #E2EBFA;\n",
              "      box-shadow: 0px 1px 2px rgba(60, 64, 67, 0.3), 0px 1px 3px 1px rgba(60, 64, 67, 0.15);\n",
              "      fill: #174EA6;\n",
              "    }\n",
              "\n",
              "    [theme=dark] .colab-df-convert {\n",
              "      background-color: #3B4455;\n",
              "      fill: #D2E3FC;\n",
              "    }\n",
              "\n",
              "    [theme=dark] .colab-df-convert:hover {\n",
              "      background-color: #434B5C;\n",
              "      box-shadow: 0px 1px 3px 1px rgba(0, 0, 0, 0.15);\n",
              "      filter: drop-shadow(0px 1px 2px rgba(0, 0, 0, 0.3));\n",
              "      fill: #FFFFFF;\n",
              "    }\n",
              "  </style>\n",
              "\n",
              "      <script>\n",
              "        const buttonEl =\n",
              "          document.querySelector('#df-5d46835b-3e5e-47b0-ae5c-86708c5043bb button.colab-df-convert');\n",
              "        buttonEl.style.display =\n",
              "          google.colab.kernel.accessAllowed ? 'block' : 'none';\n",
              "\n",
              "        async function convertToInteractive(key) {\n",
              "          const element = document.querySelector('#df-5d46835b-3e5e-47b0-ae5c-86708c5043bb');\n",
              "          const dataTable =\n",
              "            await google.colab.kernel.invokeFunction('convertToInteractive',\n",
              "                                                     [key], {});\n",
              "          if (!dataTable) return;\n",
              "\n",
              "          const docLinkHtml = 'Like what you see? Visit the ' +\n",
              "            '<a target=\"_blank\" href=https://colab.research.google.com/notebooks/data_table.ipynb>data table notebook</a>'\n",
              "            + ' to learn more about interactive tables.';\n",
              "          element.innerHTML = '';\n",
              "          dataTable['output_type'] = 'display_data';\n",
              "          await google.colab.output.renderOutput(dataTable, element);\n",
              "          const docLink = document.createElement('div');\n",
              "          docLink.innerHTML = docLinkHtml;\n",
              "          element.appendChild(docLink);\n",
              "        }\n",
              "      </script>\n",
              "    </div>\n",
              "  </div>\n",
              "  "
            ]
          },
          "metadata": {},
          "execution_count": 4
        }
      ],
      "source": [
        "# middle 10 rows of training dataset showing genuine dns queries \n",
        "training_data[training_data['Label']==0].head(10)"
      ]
    },
    {
      "cell_type": "code",
      "execution_count": null,
      "id": "0fdc2c36",
      "metadata": {
        "execution": {
          "iopub.execute_input": "2022-11-21T14:22:04.443506Z",
          "iopub.status.busy": "2022-11-21T14:22:04.442679Z",
          "iopub.status.idle": "2022-11-21T14:22:04.522025Z",
          "shell.execute_reply": "2022-11-21T14:22:04.520802Z"
        },
        "papermill": {
          "duration": 0.093058,
          "end_time": "2022-11-21T14:22:04.525532",
          "exception": false,
          "start_time": "2022-11-21T14:22:04.432474",
          "status": "completed"
        },
        "tags": [],
        "id": "0fdc2c36",
        "colab": {
          "base_uri": "https://localhost:8080/",
          "height": 206
        },
        "outputId": "d8ef6057-5bba-4feb-f008-0e1de1e51195"
      },
      "outputs": [
        {
          "output_type": "execute_result",
          "data": {
            "text/plain": [
              "   Label                                              Query\n",
              "0      1                         q+aJ04nrBA.hidemyself.org.\n",
              "1      1                         q+aJ1InsBA.hidemyself.org.\n",
              "2      1                         q+aJ1YntBA.hidemyself.org.\n",
              "3      1  q+aJ1onuCDT2aA0NEkzbTnzRPgWJE7aYtQhjcSmnj74ufU...\n",
              "4      1  q+aJ14nvCHKAcMCkiIhCb3eY1s8cgWt39jSJuK4299f/S5..."
            ],
            "text/html": [
              "\n",
              "  <div id=\"df-4de332be-b1c8-499b-94fc-e8c07e4b6422\">\n",
              "    <div class=\"colab-df-container\">\n",
              "      <div>\n",
              "<style scoped>\n",
              "    .dataframe tbody tr th:only-of-type {\n",
              "        vertical-align: middle;\n",
              "    }\n",
              "\n",
              "    .dataframe tbody tr th {\n",
              "        vertical-align: top;\n",
              "    }\n",
              "\n",
              "    .dataframe thead th {\n",
              "        text-align: right;\n",
              "    }\n",
              "</style>\n",
              "<table border=\"1\" class=\"dataframe\">\n",
              "  <thead>\n",
              "    <tr style=\"text-align: right;\">\n",
              "      <th></th>\n",
              "      <th>Label</th>\n",
              "      <th>Query</th>\n",
              "    </tr>\n",
              "  </thead>\n",
              "  <tbody>\n",
              "    <tr>\n",
              "      <th>0</th>\n",
              "      <td>1</td>\n",
              "      <td>q+aJ04nrBA.hidemyself.org.</td>\n",
              "    </tr>\n",
              "    <tr>\n",
              "      <th>1</th>\n",
              "      <td>1</td>\n",
              "      <td>q+aJ1InsBA.hidemyself.org.</td>\n",
              "    </tr>\n",
              "    <tr>\n",
              "      <th>2</th>\n",
              "      <td>1</td>\n",
              "      <td>q+aJ1YntBA.hidemyself.org.</td>\n",
              "    </tr>\n",
              "    <tr>\n",
              "      <th>3</th>\n",
              "      <td>1</td>\n",
              "      <td>q+aJ1onuCDT2aA0NEkzbTnzRPgWJE7aYtQhjcSmnj74ufU...</td>\n",
              "    </tr>\n",
              "    <tr>\n",
              "      <th>4</th>\n",
              "      <td>1</td>\n",
              "      <td>q+aJ14nvCHKAcMCkiIhCb3eY1s8cgWt39jSJuK4299f/S5...</td>\n",
              "    </tr>\n",
              "  </tbody>\n",
              "</table>\n",
              "</div>\n",
              "      <button class=\"colab-df-convert\" onclick=\"convertToInteractive('df-4de332be-b1c8-499b-94fc-e8c07e4b6422')\"\n",
              "              title=\"Convert this dataframe to an interactive table.\"\n",
              "              style=\"display:none;\">\n",
              "        \n",
              "  <svg xmlns=\"http://www.w3.org/2000/svg\" height=\"24px\"viewBox=\"0 0 24 24\"\n",
              "       width=\"24px\">\n",
              "    <path d=\"M0 0h24v24H0V0z\" fill=\"none\"/>\n",
              "    <path d=\"M18.56 5.44l.94 2.06.94-2.06 2.06-.94-2.06-.94-.94-2.06-.94 2.06-2.06.94zm-11 1L8.5 8.5l.94-2.06 2.06-.94-2.06-.94L8.5 2.5l-.94 2.06-2.06.94zm10 10l.94 2.06.94-2.06 2.06-.94-2.06-.94-.94-2.06-.94 2.06-2.06.94z\"/><path d=\"M17.41 7.96l-1.37-1.37c-.4-.4-.92-.59-1.43-.59-.52 0-1.04.2-1.43.59L10.3 9.45l-7.72 7.72c-.78.78-.78 2.05 0 2.83L4 21.41c.39.39.9.59 1.41.59.51 0 1.02-.2 1.41-.59l7.78-7.78 2.81-2.81c.8-.78.8-2.07 0-2.86zM5.41 20L4 18.59l7.72-7.72 1.47 1.35L5.41 20z\"/>\n",
              "  </svg>\n",
              "      </button>\n",
              "      \n",
              "  <style>\n",
              "    .colab-df-container {\n",
              "      display:flex;\n",
              "      flex-wrap:wrap;\n",
              "      gap: 12px;\n",
              "    }\n",
              "\n",
              "    .colab-df-convert {\n",
              "      background-color: #E8F0FE;\n",
              "      border: none;\n",
              "      border-radius: 50%;\n",
              "      cursor: pointer;\n",
              "      display: none;\n",
              "      fill: #1967D2;\n",
              "      height: 32px;\n",
              "      padding: 0 0 0 0;\n",
              "      width: 32px;\n",
              "    }\n",
              "\n",
              "    .colab-df-convert:hover {\n",
              "      background-color: #E2EBFA;\n",
              "      box-shadow: 0px 1px 2px rgba(60, 64, 67, 0.3), 0px 1px 3px 1px rgba(60, 64, 67, 0.15);\n",
              "      fill: #174EA6;\n",
              "    }\n",
              "\n",
              "    [theme=dark] .colab-df-convert {\n",
              "      background-color: #3B4455;\n",
              "      fill: #D2E3FC;\n",
              "    }\n",
              "\n",
              "    [theme=dark] .colab-df-convert:hover {\n",
              "      background-color: #434B5C;\n",
              "      box-shadow: 0px 1px 3px 1px rgba(0, 0, 0, 0.15);\n",
              "      filter: drop-shadow(0px 1px 2px rgba(0, 0, 0, 0.3));\n",
              "      fill: #FFFFFF;\n",
              "    }\n",
              "  </style>\n",
              "\n",
              "      <script>\n",
              "        const buttonEl =\n",
              "          document.querySelector('#df-4de332be-b1c8-499b-94fc-e8c07e4b6422 button.colab-df-convert');\n",
              "        buttonEl.style.display =\n",
              "          google.colab.kernel.accessAllowed ? 'block' : 'none';\n",
              "\n",
              "        async function convertToInteractive(key) {\n",
              "          const element = document.querySelector('#df-4de332be-b1c8-499b-94fc-e8c07e4b6422');\n",
              "          const dataTable =\n",
              "            await google.colab.kernel.invokeFunction('convertToInteractive',\n",
              "                                                     [key], {});\n",
              "          if (!dataTable) return;\n",
              "\n",
              "          const docLinkHtml = 'Like what you see? Visit the ' +\n",
              "            '<a target=\"_blank\" href=https://colab.research.google.com/notebooks/data_table.ipynb>data table notebook</a>'\n",
              "            + ' to learn more about interactive tables.';\n",
              "          element.innerHTML = '';\n",
              "          dataTable['output_type'] = 'display_data';\n",
              "          await google.colab.output.renderOutput(dataTable, element);\n",
              "          const docLink = document.createElement('div');\n",
              "          docLink.innerHTML = docLinkHtml;\n",
              "          element.appendChild(docLink);\n",
              "        }\n",
              "      </script>\n",
              "    </div>\n",
              "  </div>\n",
              "  "
            ]
          },
          "metadata": {},
          "execution_count": 5
        }
      ],
      "source": [
        "# first 5 rows of test dataset\n",
        "test_data = pd.read_csv(\"validating.csv\", names = ['Label', 'Query'])\n",
        "test_data.head()"
      ]
    },
    {
      "cell_type": "code",
      "source": [
        "test_data.shape"
      ],
      "metadata": {
        "id": "8ObQtSOXT9bQ",
        "colab": {
          "base_uri": "https://localhost:8080/"
        },
        "outputId": "3969f05d-855e-4a29-adb2-a8f187ff72f9"
      },
      "id": "8ObQtSOXT9bQ",
      "execution_count": null,
      "outputs": [
        {
          "output_type": "execute_result",
          "data": {
            "text/plain": [
              "(5000, 2)"
            ]
          },
          "metadata": {},
          "execution_count": 6
        }
      ]
    },
    {
      "cell_type": "code",
      "execution_count": null,
      "id": "f3a3f827",
      "metadata": {
        "execution": {
          "iopub.execute_input": "2022-11-21T14:22:04.545849Z",
          "iopub.status.busy": "2022-11-21T14:22:04.545105Z",
          "iopub.status.idle": "2022-11-21T14:22:04.565326Z",
          "shell.execute_reply": "2022-11-21T14:22:04.564124Z"
        },
        "papermill": {
          "duration": 0.033142,
          "end_time": "2022-11-21T14:22:04.568835",
          "exception": false,
          "start_time": "2022-11-21T14:22:04.535693",
          "status": "completed"
        },
        "tags": [],
        "id": "f3a3f827",
        "colab": {
          "base_uri": "https://localhost:8080/",
          "height": 363
        },
        "outputId": "0851c880-ea79-419c-a336-e324bda6447f"
      },
      "outputs": [
        {
          "output_type": "execute_result",
          "data": {
            "text/plain": [
              "      Label                     Query\n",
              "2000      0               qqmail.com.\n",
              "2001      0  ultimateclassicrock.com.\n",
              "2002      0       businessinsider.my.\n",
              "2003      0                skynet.be.\n",
              "2004      0            ccgslb.com.cn.\n",
              "2005      0                  lan.com.\n",
              "2006      0                  full.sc.\n",
              "2007      0              kioskea.net.\n",
              "2008      0        thevoterguide.org.\n",
              "2009      0         locationlabs.com."
            ],
            "text/html": [
              "\n",
              "  <div id=\"df-c8cec964-6086-4a91-bed3-21dbbbfc245e\">\n",
              "    <div class=\"colab-df-container\">\n",
              "      <div>\n",
              "<style scoped>\n",
              "    .dataframe tbody tr th:only-of-type {\n",
              "        vertical-align: middle;\n",
              "    }\n",
              "\n",
              "    .dataframe tbody tr th {\n",
              "        vertical-align: top;\n",
              "    }\n",
              "\n",
              "    .dataframe thead th {\n",
              "        text-align: right;\n",
              "    }\n",
              "</style>\n",
              "<table border=\"1\" class=\"dataframe\">\n",
              "  <thead>\n",
              "    <tr style=\"text-align: right;\">\n",
              "      <th></th>\n",
              "      <th>Label</th>\n",
              "      <th>Query</th>\n",
              "    </tr>\n",
              "  </thead>\n",
              "  <tbody>\n",
              "    <tr>\n",
              "      <th>2000</th>\n",
              "      <td>0</td>\n",
              "      <td>qqmail.com.</td>\n",
              "    </tr>\n",
              "    <tr>\n",
              "      <th>2001</th>\n",
              "      <td>0</td>\n",
              "      <td>ultimateclassicrock.com.</td>\n",
              "    </tr>\n",
              "    <tr>\n",
              "      <th>2002</th>\n",
              "      <td>0</td>\n",
              "      <td>businessinsider.my.</td>\n",
              "    </tr>\n",
              "    <tr>\n",
              "      <th>2003</th>\n",
              "      <td>0</td>\n",
              "      <td>skynet.be.</td>\n",
              "    </tr>\n",
              "    <tr>\n",
              "      <th>2004</th>\n",
              "      <td>0</td>\n",
              "      <td>ccgslb.com.cn.</td>\n",
              "    </tr>\n",
              "    <tr>\n",
              "      <th>2005</th>\n",
              "      <td>0</td>\n",
              "      <td>lan.com.</td>\n",
              "    </tr>\n",
              "    <tr>\n",
              "      <th>2006</th>\n",
              "      <td>0</td>\n",
              "      <td>full.sc.</td>\n",
              "    </tr>\n",
              "    <tr>\n",
              "      <th>2007</th>\n",
              "      <td>0</td>\n",
              "      <td>kioskea.net.</td>\n",
              "    </tr>\n",
              "    <tr>\n",
              "      <th>2008</th>\n",
              "      <td>0</td>\n",
              "      <td>thevoterguide.org.</td>\n",
              "    </tr>\n",
              "    <tr>\n",
              "      <th>2009</th>\n",
              "      <td>0</td>\n",
              "      <td>locationlabs.com.</td>\n",
              "    </tr>\n",
              "  </tbody>\n",
              "</table>\n",
              "</div>\n",
              "      <button class=\"colab-df-convert\" onclick=\"convertToInteractive('df-c8cec964-6086-4a91-bed3-21dbbbfc245e')\"\n",
              "              title=\"Convert this dataframe to an interactive table.\"\n",
              "              style=\"display:none;\">\n",
              "        \n",
              "  <svg xmlns=\"http://www.w3.org/2000/svg\" height=\"24px\"viewBox=\"0 0 24 24\"\n",
              "       width=\"24px\">\n",
              "    <path d=\"M0 0h24v24H0V0z\" fill=\"none\"/>\n",
              "    <path d=\"M18.56 5.44l.94 2.06.94-2.06 2.06-.94-2.06-.94-.94-2.06-.94 2.06-2.06.94zm-11 1L8.5 8.5l.94-2.06 2.06-.94-2.06-.94L8.5 2.5l-.94 2.06-2.06.94zm10 10l.94 2.06.94-2.06 2.06-.94-2.06-.94-.94-2.06-.94 2.06-2.06.94z\"/><path d=\"M17.41 7.96l-1.37-1.37c-.4-.4-.92-.59-1.43-.59-.52 0-1.04.2-1.43.59L10.3 9.45l-7.72 7.72c-.78.78-.78 2.05 0 2.83L4 21.41c.39.39.9.59 1.41.59.51 0 1.02-.2 1.41-.59l7.78-7.78 2.81-2.81c.8-.78.8-2.07 0-2.86zM5.41 20L4 18.59l7.72-7.72 1.47 1.35L5.41 20z\"/>\n",
              "  </svg>\n",
              "      </button>\n",
              "      \n",
              "  <style>\n",
              "    .colab-df-container {\n",
              "      display:flex;\n",
              "      flex-wrap:wrap;\n",
              "      gap: 12px;\n",
              "    }\n",
              "\n",
              "    .colab-df-convert {\n",
              "      background-color: #E8F0FE;\n",
              "      border: none;\n",
              "      border-radius: 50%;\n",
              "      cursor: pointer;\n",
              "      display: none;\n",
              "      fill: #1967D2;\n",
              "      height: 32px;\n",
              "      padding: 0 0 0 0;\n",
              "      width: 32px;\n",
              "    }\n",
              "\n",
              "    .colab-df-convert:hover {\n",
              "      background-color: #E2EBFA;\n",
              "      box-shadow: 0px 1px 2px rgba(60, 64, 67, 0.3), 0px 1px 3px 1px rgba(60, 64, 67, 0.15);\n",
              "      fill: #174EA6;\n",
              "    }\n",
              "\n",
              "    [theme=dark] .colab-df-convert {\n",
              "      background-color: #3B4455;\n",
              "      fill: #D2E3FC;\n",
              "    }\n",
              "\n",
              "    [theme=dark] .colab-df-convert:hover {\n",
              "      background-color: #434B5C;\n",
              "      box-shadow: 0px 1px 3px 1px rgba(0, 0, 0, 0.15);\n",
              "      filter: drop-shadow(0px 1px 2px rgba(0, 0, 0, 0.3));\n",
              "      fill: #FFFFFF;\n",
              "    }\n",
              "  </style>\n",
              "\n",
              "      <script>\n",
              "        const buttonEl =\n",
              "          document.querySelector('#df-c8cec964-6086-4a91-bed3-21dbbbfc245e button.colab-df-convert');\n",
              "        buttonEl.style.display =\n",
              "          google.colab.kernel.accessAllowed ? 'block' : 'none';\n",
              "\n",
              "        async function convertToInteractive(key) {\n",
              "          const element = document.querySelector('#df-c8cec964-6086-4a91-bed3-21dbbbfc245e');\n",
              "          const dataTable =\n",
              "            await google.colab.kernel.invokeFunction('convertToInteractive',\n",
              "                                                     [key], {});\n",
              "          if (!dataTable) return;\n",
              "\n",
              "          const docLinkHtml = 'Like what you see? Visit the ' +\n",
              "            '<a target=\"_blank\" href=https://colab.research.google.com/notebooks/data_table.ipynb>data table notebook</a>'\n",
              "            + ' to learn more about interactive tables.';\n",
              "          element.innerHTML = '';\n",
              "          dataTable['output_type'] = 'display_data';\n",
              "          await google.colab.output.renderOutput(dataTable, element);\n",
              "          const docLink = document.createElement('div');\n",
              "          docLink.innerHTML = docLinkHtml;\n",
              "          element.appendChild(docLink);\n",
              "        }\n",
              "      </script>\n",
              "    </div>\n",
              "  </div>\n",
              "  "
            ]
          },
          "metadata": {},
          "execution_count": 7
        }
      ],
      "source": [
        "# middle 10 rows of dataset showing genuine dns queries \n",
        "test_data[test_data[\"Label\"]==0].head(10)"
      ]
    },
    {
      "cell_type": "code",
      "execution_count": null,
      "id": "752ae3f0",
      "metadata": {
        "execution": {
          "iopub.execute_input": "2022-11-21T14:22:04.589487Z",
          "iopub.status.busy": "2022-11-21T14:22:04.587962Z",
          "iopub.status.idle": "2022-11-21T14:22:04.799123Z",
          "shell.execute_reply": "2022-11-21T14:22:04.797093Z"
        },
        "papermill": {
          "duration": 0.225125,
          "end_time": "2022-11-21T14:22:04.802367",
          "exception": false,
          "start_time": "2022-11-21T14:22:04.577242",
          "status": "completed"
        },
        "tags": [],
        "id": "752ae3f0",
        "colab": {
          "base_uri": "https://localhost:8080/",
          "height": 330
        },
        "outputId": "77060081-0f6a-4b5e-b554-03ce7889664a"
      },
      "outputs": [
        {
          "output_type": "stream",
          "name": "stdout",
          "text": [
            "1    12000\n",
            "0     3000\n",
            "Name: Label, dtype: int64\n"
          ]
        },
        {
          "output_type": "display_data",
          "data": {
            "text/plain": [
              "<Figure size 432x288 with 1 Axes>"
            ],
            "image/png": "[encoded data removed]"
          },
          "metadata": {
            "needs_background": "light"
          }
        }
      ],
      "source": [
        "# statistical counts of genuine and malicious dns queries\n",
        "counts = training_data['Label'].value_counts()\n",
        "print(counts)\n",
        "counts.plot(kind = 'bar',color = [\"red\",\"green\"])\n",
        "plt.title('Bar Plot on Training Data')\n",
        "plt.show()"
      ]
    },
    {
      "cell_type": "code",
      "execution_count": null,
      "id": "0d172148",
      "metadata": {
        "execution": {
          "iopub.execute_input": "2022-11-21T14:22:04.821788Z",
          "iopub.status.busy": "2022-11-21T14:22:04.821345Z",
          "iopub.status.idle": "2022-11-21T14:22:04.969878Z",
          "shell.execute_reply": "2022-11-21T14:22:04.968811Z"
        },
        "papermill": {
          "duration": 0.162248,
          "end_time": "2022-11-21T14:22:04.973186",
          "exception": false,
          "start_time": "2022-11-21T14:22:04.810938",
          "status": "completed"
        },
        "tags": [],
        "id": "0d172148",
        "colab": {
          "base_uri": "https://localhost:8080/",
          "height": 330
        },
        "outputId": "5d21a520-00d1-45c7-9b19-6425ed4da1a7"
      },
      "outputs": [
        {
          "output_type": "stream",
          "name": "stdout",
          "text": [
            "1    4000\n",
            "0    1000\n",
            "Name: Label, dtype: int64\n"
          ]
        },
        {
          "output_type": "display_data",
          "data": {
            "text/plain": [
              "<Figure size 432x288 with 1 Axes>"
            ],
            "image/png": "[encoded data removed]"
          },
          "metadata": {
            "needs_background": "light"
          }
        }
      ],
      "source": [
        "counts = test_data['Label'].value_counts()\n",
        "print(counts)\n",
        "counts.plot(kind = 'bar',color = [\"red\",\"green\"])\n",
        "plt.title('Bar Plot on Test Data')\n",
        "plt.show()"
      ]
    },
    {
      "cell_type": "markdown",
      "id": "d219e222",
      "metadata": {
        "papermill": {
          "duration": 0.00831,
          "end_time": "2022-11-21T14:22:04.990222",
          "exception": false,
          "start_time": "2022-11-21T14:22:04.981912",
          "status": "completed"
        },
        "tags": [],
        "id": "d219e222"
      },
      "source": [
        "## Calculate Entropy Utility"
      ]
    },
    {
      "cell_type": "code",
      "execution_count": null,
      "id": "ef170d17",
      "metadata": {
        "execution": {
          "iopub.execute_input": "2022-11-21T14:22:05.010597Z",
          "iopub.status.busy": "2022-11-21T14:22:05.009570Z",
          "iopub.status.idle": "2022-11-21T14:22:05.017091Z",
          "shell.execute_reply": "2022-11-21T14:22:05.016079Z"
        },
        "papermill": {
          "duration": 0.021119,
          "end_time": "2022-11-21T14:22:05.020073",
          "exception": false,
          "start_time": "2022-11-21T14:22:04.998954",
          "status": "completed"
        },
        "tags": [],
        "id": "ef170d17"
      },
      "outputs": [],
      "source": [
        "'''\n",
        "Information entropy is a measure of the variations of the components\n",
        "that make up a message. The proposed method computes the entropy\n",
        "of the bytes that make up a packet layer or field value (domain).\n",
        "where p(xi) is the probability of a particular byte occurrence and n is\n",
        "the number of byte occurrences.\n",
        "'''\n",
        "\n",
        "# The higher the entropy score, the more likely a given DNS domain was algorithmically generated.\n",
        "\n",
        "def calculate_entropy(text):\n",
        "    if not text: \n",
        "        return 0 \n",
        "    entropy = 0\n",
        "    for x in range(256): \n",
        "        p_x = float(text.count(chr(x)))/len(text) # probability of occurance of each character bit-wise in a domain\n",
        "        if p_x > 0: \n",
        "            entropy += - p_x*math.log(p_x, 2) \n",
        "    return entropy"
      ]
    },
    {
      "cell_type": "markdown",
      "id": "2b75df19",
      "metadata": {
        "papermill": {
          "duration": 0.012604,
          "end_time": "2022-11-21T14:22:05.045805",
          "exception": false,
          "start_time": "2022-11-21T14:22:05.033201",
          "status": "completed"
        },
        "tags": [],
        "id": "2b75df19"
      },
      "source": [
        "## Generate Entropy for Training Dataset"
      ]
    },
    {
      "cell_type": "code",
      "execution_count": null,
      "id": "ede20b26",
      "metadata": {
        "execution": {
          "iopub.execute_input": "2022-11-21T14:22:05.070184Z",
          "iopub.status.busy": "2022-11-21T14:22:05.069761Z",
          "iopub.status.idle": "2022-11-21T14:22:07.268613Z",
          "shell.execute_reply": "2022-11-21T14:22:07.267215Z"
        },
        "papermill": {
          "duration": 2.21288,
          "end_time": "2022-11-21T14:22:07.271602",
          "exception": false,
          "start_time": "2022-11-21T14:22:05.058722",
          "status": "completed"
        },
        "tags": [],
        "id": "ede20b26"
      },
      "outputs": [],
      "source": [
        "# run entropy function on the train dataset and add Entropy column\n",
        "\n",
        "entropy_train_vals = []\n",
        "\n",
        "for query in training_data['Query']:\n",
        "    entropy = calculate_entropy(query)\n",
        "    entropy_train_vals.append(entropy)\n",
        "    \n",
        "training_data['Entropy'] = entropy_train_vals"
      ]
    },
    {
      "cell_type": "code",
      "execution_count": null,
      "id": "f35847b7",
      "metadata": {
        "execution": {
          "iopub.execute_input": "2022-11-21T14:22:07.292816Z",
          "iopub.status.busy": "2022-11-21T14:22:07.292166Z",
          "iopub.status.idle": "2022-11-21T14:22:07.303498Z",
          "shell.execute_reply": "2022-11-21T14:22:07.302456Z"
        },
        "papermill": {
          "duration": 0.023945,
          "end_time": "2022-11-21T14:22:07.305862",
          "exception": false,
          "start_time": "2022-11-21T14:22:07.281917",
          "status": "completed"
        },
        "tags": [],
        "id": "f35847b7",
        "colab": {
          "base_uri": "https://localhost:8080/",
          "height": 206
        },
        "outputId": "a0b82542-0aaa-43c5-ca52-d0ee870b3930"
      },
      "outputs": [
        {
          "output_type": "execute_result",
          "data": {
            "text/plain": [
              "   Label                                              Query   Entropy\n",
              "0      1                         q+Z8AnwaBA.hidemyself.org.  4.363713\n",
              "1      1                         q+Z8A3wbBA.hidemyself.org.  4.363713\n",
              "2      1                         q+Z8BHwcBA.hidemyself.org.  4.363713\n",
              "3      1                         q+Z8BXwdBA.hidemyself.org.  4.286790\n",
              "4      1  q+Z8BnweCORdAGL4+W7DB5xH1cUwcwM1gejAQoJF8hbs2J...  5.752803"
            ],
            "text/html": [
              "\n",
              "  <div id=\"df-4e923f27-faaf-402f-a995-6709c6ec33dd\">\n",
              "    <div class=\"colab-df-container\">\n",
              "      <div>\n",
              "<style scoped>\n",
              "    .dataframe tbody tr th:only-of-type {\n",
              "        vertical-align: middle;\n",
              "    }\n",
              "\n",
              "    .dataframe tbody tr th {\n",
              "        vertical-align: top;\n",
              "    }\n",
              "\n",
              "    .dataframe thead th {\n",
              "        text-align: right;\n",
              "    }\n",
              "</style>\n",
              "<table border=\"1\" class=\"dataframe\">\n",
              "  <thead>\n",
              "    <tr style=\"text-align: right;\">\n",
              "      <th></th>\n",
              "      <th>Label</th>\n",
              "      <th>Query</th>\n",
              "      <th>Entropy</th>\n",
              "    </tr>\n",
              "  </thead>\n",
              "  <tbody>\n",
              "    <tr>\n",
              "      <th>0</th>\n",
              "      <td>1</td>\n",
              "      <td>q+Z8AnwaBA.hidemyself.org.</td>\n",
              "      <td>4.363713</td>\n",
              "    </tr>\n",
              "    <tr>\n",
              "      <th>1</th>\n",
              "      <td>1</td>\n",
              "      <td>q+Z8A3wbBA.hidemyself.org.</td>\n",
              "      <td>4.363713</td>\n",
              "    </tr>\n",
              "    <tr>\n",
              "      <th>2</th>\n",
              "      <td>1</td>\n",
              "      <td>q+Z8BHwcBA.hidemyself.org.</td>\n",
              "      <td>4.363713</td>\n",
              "    </tr>\n",
              "    <tr>\n",
              "      <th>3</th>\n",
              "      <td>1</td>\n",
              "      <td>q+Z8BXwdBA.hidemyself.org.</td>\n",
              "      <td>4.286790</td>\n",
              "    </tr>\n",
              "    <tr>\n",
              "      <th>4</th>\n",
              "      <td>1</td>\n",
              "      <td>q+Z8BnweCORdAGL4+W7DB5xH1cUwcwM1gejAQoJF8hbs2J...</td>\n",
              "      <td>5.752803</td>\n",
              "    </tr>\n",
              "  </tbody>\n",
              "</table>\n",
              "</div>\n",
              "      <button class=\"colab-df-convert\" onclick=\"convertToInteractive('df-4e923f27-faaf-402f-a995-6709c6ec33dd')\"\n",
              "              title=\"Convert this dataframe to an interactive table.\"\n",
              "              style=\"display:none;\">\n",
              "        \n",
              "  <svg xmlns=\"http://www.w3.org/2000/svg\" height=\"24px\"viewBox=\"0 0 24 24\"\n",
              "       width=\"24px\">\n",
              "    <path d=\"M0 0h24v24H0V0z\" fill=\"none\"/>\n",
              "    <path d=\"M18.56 5.44l.94 2.06.94-2.06 2.06-.94-2.06-.94-.94-2.06-.94 2.06-2.06.94zm-11 1L8.5 8.5l.94-2.06 2.06-.94-2.06-.94L8.5 2.5l-.94 2.06-2.06.94zm10 10l.94 2.06.94-2.06 2.06-.94-2.06-.94-.94-2.06-.94 2.06-2.06.94z\"/><path d=\"M17.41 7.96l-1.37-1.37c-.4-.4-.92-.59-1.43-.59-.52 0-1.04.2-1.43.59L10.3 9.45l-7.72 7.72c-.78.78-.78 2.05 0 2.83L4 21.41c.39.39.9.59 1.41.59.51 0 1.02-.2 1.41-.59l7.78-7.78 2.81-2.81c.8-.78.8-2.07 0-2.86zM5.41 20L4 18.59l7.72-7.72 1.47 1.35L5.41 20z\"/>\n",
              "  </svg>\n",
              "      </button>\n",
              "      \n",
              "  <style>\n",
              "    .colab-df-container {\n",
              "      display:flex;\n",
              "      flex-wrap:wrap;\n",
              "      gap: 12px;\n",
              "    }\n",
              "\n",
              "    .colab-df-convert {\n",
              "      background-color: #E8F0FE;\n",
              "      border: none;\n",
              "      border-radius: 50%;\n",
              "      cursor: pointer;\n",
              "      display: none;\n",
              "      fill: #1967D2;\n",
              "      height: 32px;\n",
              "      padding: 0 0 0 0;\n",
              "      width: 32px;\n",
              "    }\n",
              "\n",
              "    .colab-df-convert:hover {\n",
              "      background-color: #E2EBFA;\n",
              "      box-shadow: 0px 1px 2px rgba(60, 64, 67, 0.3), 0px 1px 3px 1px rgba(60, 64, 67, 0.15);\n",
              "      fill: #174EA6;\n",
              "    }\n",
              "\n",
              "    [theme=dark] .colab-df-convert {\n",
              "      background-color: #3B4455;\n",
              "      fill: #D2E3FC;\n",
              "    }\n",
              "\n",
              "    [theme=dark] .colab-df-convert:hover {\n",
              "      background-color: #434B5C;\n",
              "      box-shadow: 0px 1px 3px 1px rgba(0, 0, 0, 0.15);\n",
              "      filter: drop-shadow(0px 1px 2px rgba(0, 0, 0, 0.3));\n",
              "      fill: #FFFFFF;\n",
              "    }\n",
              "  </style>\n",
              "\n",
              "      <script>\n",
              "        const buttonEl =\n",
              "          document.querySelector('#df-4e923f27-faaf-402f-a995-6709c6ec33dd button.colab-df-convert');\n",
              "        buttonEl.style.display =\n",
              "          google.colab.kernel.accessAllowed ? 'block' : 'none';\n",
              "\n",
              "        async function convertToInteractive(key) {\n",
              "          const element = document.querySelector('#df-4e923f27-faaf-402f-a995-6709c6ec33dd');\n",
              "          const dataTable =\n",
              "            await google.colab.kernel.invokeFunction('convertToInteractive',\n",
              "                                                     [key], {});\n",
              "          if (!dataTable) return;\n",
              "\n",
              "          const docLinkHtml = 'Like what you see? Visit the ' +\n",
              "            '<a target=\"_blank\" href=https://colab.research.google.com/notebooks/data_table.ipynb>data table notebook</a>'\n",
              "            + ' to learn more about interactive tables.';\n",
              "          element.innerHTML = '';\n",
              "          dataTable['output_type'] = 'display_data';\n",
              "          await google.colab.output.renderOutput(dataTable, element);\n",
              "          const docLink = document.createElement('div');\n",
              "          docLink.innerHTML = docLinkHtml;\n",
              "          element.appendChild(docLink);\n",
              "        }\n",
              "      </script>\n",
              "    </div>\n",
              "  </div>\n",
              "  "
            ]
          },
          "metadata": {},
          "execution_count": 12
        }
      ],
      "source": [
        "# get the first 5 entropy values: featuring high entropy for malicious queries\n",
        "training_data.head()"
      ]
    },
    {
      "cell_type": "code",
      "execution_count": null,
      "id": "b8f11d07",
      "metadata": {
        "execution": {
          "iopub.execute_input": "2022-11-21T14:22:07.325783Z",
          "iopub.status.busy": "2022-11-21T14:22:07.325334Z",
          "iopub.status.idle": "2022-11-21T14:22:07.339284Z",
          "shell.execute_reply": "2022-11-21T14:22:07.338105Z"
        },
        "papermill": {
          "duration": 0.026634,
          "end_time": "2022-11-21T14:22:07.341612",
          "exception": false,
          "start_time": "2022-11-21T14:22:07.314978",
          "status": "completed"
        },
        "tags": [],
        "id": "b8f11d07",
        "colab": {
          "base_uri": "https://localhost:8080/",
          "height": 206
        },
        "outputId": "702af703-4bae-4e53-cb66-6ffbb4057b15"
      },
      "outputs": [
        {
          "output_type": "execute_result",
          "data": {
            "text/plain": [
              "      Label                  Query   Entropy\n",
              "6000      0            google.com.  2.663533\n",
              "6001      0          facebook.com.  3.026987\n",
              "6002      0       doubleclick.net.  3.500000\n",
              "6003      0  google-analytics.com.  3.689704\n",
              "6004      0          akamaihd.net.  3.180833"
            ],
            "text/html": [
              "\n",
              "  <div id=\"df-3a7e4e9d-f348-401f-bcb8-4d13575bd9e8\">\n",
              "    <div class=\"colab-df-container\">\n",
              "      <div>\n",
              "<style scoped>\n",
              "    .dataframe tbody tr th:only-of-type {\n",
              "        vertical-align: middle;\n",
              "    }\n",
              "\n",
              "    .dataframe tbody tr th {\n",
              "        vertical-align: top;\n",
              "    }\n",
              "\n",
              "    .dataframe thead th {\n",
              "        text-align: right;\n",
              "    }\n",
              "</style>\n",
              "<table border=\"1\" class=\"dataframe\">\n",
              "  <thead>\n",
              "    <tr style=\"text-align: right;\">\n",
              "      <th></th>\n",
              "      <th>Label</th>\n",
              "      <th>Query</th>\n",
              "      <th>Entropy</th>\n",
              "    </tr>\n",
              "  </thead>\n",
              "  <tbody>\n",
              "    <tr>\n",
              "      <th>6000</th>\n",
              "      <td>0</td>\n",
              "      <td>google.com.</td>\n",
              "      <td>2.663533</td>\n",
              "    </tr>\n",
              "    <tr>\n",
              "      <th>6001</th>\n",
              "      <td>0</td>\n",
              "      <td>facebook.com.</td>\n",
              "      <td>3.026987</td>\n",
              "    </tr>\n",
              "    <tr>\n",
              "      <th>6002</th>\n",
              "      <td>0</td>\n",
              "      <td>doubleclick.net.</td>\n",
              "      <td>3.500000</td>\n",
              "    </tr>\n",
              "    <tr>\n",
              "      <th>6003</th>\n",
              "      <td>0</td>\n",
              "      <td>google-analytics.com.</td>\n",
              "      <td>3.689704</td>\n",
              "    </tr>\n",
              "    <tr>\n",
              "      <th>6004</th>\n",
              "      <td>0</td>\n",
              "      <td>akamaihd.net.</td>\n",
              "      <td>3.180833</td>\n",
              "    </tr>\n",
              "  </tbody>\n",
              "</table>\n",
              "</div>\n",
              "      <button class=\"colab-df-convert\" onclick=\"convertToInteractive('df-3a7e4e9d-f348-401f-bcb8-4d13575bd9e8')\"\n",
              "              title=\"Convert this dataframe to an interactive table.\"\n",
              "              style=\"display:none;\">\n",
              "        \n",
              "  <svg xmlns=\"http://www.w3.org/2000/svg\" height=\"24px\"viewBox=\"0 0 24 24\"\n",
              "       width=\"24px\">\n",
              "    <path d=\"M0 0h24v24H0V0z\" fill=\"none\"/>\n",
              "    <path d=\"M18.56 5.44l.94 2.06.94-2.06 2.06-.94-2.06-.94-.94-2.06-.94 2.06-2.06.94zm-11 1L8.5 8.5l.94-2.06 2.06-.94-2.06-.94L8.5 2.5l-.94 2.06-2.06.94zm10 10l.94 2.06.94-2.06 2.06-.94-2.06-.94-.94-2.06-.94 2.06-2.06.94z\"/><path d=\"M17.41 7.96l-1.37-1.37c-.4-.4-.92-.59-1.43-.59-.52 0-1.04.2-1.43.59L10.3 9.45l-7.72 7.72c-.78.78-.78 2.05 0 2.83L4 21.41c.39.39.9.59 1.41.59.51 0 1.02-.2 1.41-.59l7.78-7.78 2.81-2.81c.8-.78.8-2.07 0-2.86zM5.41 20L4 18.59l7.72-7.72 1.47 1.35L5.41 20z\"/>\n",
              "  </svg>\n",
              "      </button>\n",
              "      \n",
              "  <style>\n",
              "    .colab-df-container {\n",
              "      display:flex;\n",
              "      flex-wrap:wrap;\n",
              "      gap: 12px;\n",
              "    }\n",
              "\n",
              "    .colab-df-convert {\n",
              "      background-color: #E8F0FE;\n",
              "      border: none;\n",
              "      border-radius: 50%;\n",
              "      cursor: pointer;\n",
              "      display: none;\n",
              "      fill: #1967D2;\n",
              "      height: 32px;\n",
              "      padding: 0 0 0 0;\n",
              "      width: 32px;\n",
              "    }\n",
              "\n",
              "    .colab-df-convert:hover {\n",
              "      background-color: #E2EBFA;\n",
              "      box-shadow: 0px 1px 2px rgba(60, 64, 67, 0.3), 0px 1px 3px 1px rgba(60, 64, 67, 0.15);\n",
              "      fill: #174EA6;\n",
              "    }\n",
              "\n",
              "    [theme=dark] .colab-df-convert {\n",
              "      background-color: #3B4455;\n",
              "      fill: #D2E3FC;\n",
              "    }\n",
              "\n",
              "    [theme=dark] .colab-df-convert:hover {\n",
              "      background-color: #434B5C;\n",
              "      box-shadow: 0px 1px 3px 1px rgba(0, 0, 0, 0.15);\n",
              "      filter: drop-shadow(0px 1px 2px rgba(0, 0, 0, 0.3));\n",
              "      fill: #FFFFFF;\n",
              "    }\n",
              "  </style>\n",
              "\n",
              "      <script>\n",
              "        const buttonEl =\n",
              "          document.querySelector('#df-3a7e4e9d-f348-401f-bcb8-4d13575bd9e8 button.colab-df-convert');\n",
              "        buttonEl.style.display =\n",
              "          google.colab.kernel.accessAllowed ? 'block' : 'none';\n",
              "\n",
              "        async function convertToInteractive(key) {\n",
              "          const element = document.querySelector('#df-3a7e4e9d-f348-401f-bcb8-4d13575bd9e8');\n",
              "          const dataTable =\n",
              "            await google.colab.kernel.invokeFunction('convertToInteractive',\n",
              "                                                     [key], {});\n",
              "          if (!dataTable) return;\n",
              "\n",
              "          const docLinkHtml = 'Like what you see? Visit the ' +\n",
              "            '<a target=\"_blank\" href=https://colab.research.google.com/notebooks/data_table.ipynb>data table notebook</a>'\n",
              "            + ' to learn more about interactive tables.';\n",
              "          element.innerHTML = '';\n",
              "          dataTable['output_type'] = 'display_data';\n",
              "          await google.colab.output.renderOutput(dataTable, element);\n",
              "          const docLink = document.createElement('div');\n",
              "          docLink.innerHTML = docLinkHtml;\n",
              "          element.appendChild(docLink);\n",
              "        }\n",
              "      </script>\n",
              "    </div>\n",
              "  </div>\n",
              "  "
            ]
          },
          "metadata": {},
          "execution_count": 13
        }
      ],
      "source": [
        "# entropy values for genuine queries: featuring low entropy\n",
        "training_data[training_data['Label']==0].head()"
      ]
    },
    {
      "cell_type": "markdown",
      "id": "8275a92a",
      "metadata": {
        "papermill": {
          "duration": 0.008664,
          "end_time": "2022-11-21T14:22:07.359386",
          "exception": false,
          "start_time": "2022-11-21T14:22:07.350722",
          "status": "completed"
        },
        "tags": [],
        "id": "8275a92a"
      },
      "source": [
        "## Generate Entropy for Test Dataset"
      ]
    },
    {
      "cell_type": "code",
      "execution_count": null,
      "id": "3c8e4e65",
      "metadata": {
        "execution": {
          "iopub.execute_input": "2022-11-21T14:22:07.379068Z",
          "iopub.status.busy": "2022-11-21T14:22:07.378583Z",
          "iopub.status.idle": "2022-11-21T14:22:10.066115Z",
          "shell.execute_reply": "2022-11-21T14:22:10.064788Z"
        },
        "papermill": {
          "duration": 2.700511,
          "end_time": "2022-11-21T14:22:10.068853",
          "exception": false,
          "start_time": "2022-11-21T14:22:07.368342",
          "status": "completed"
        },
        "tags": [],
        "id": "3c8e4e65"
      },
      "outputs": [],
      "source": [
        "entropy_test_vals = []\n",
        "\n",
        "for query in test_data['Query']:\n",
        "    entropy = calculate_entropy(query)\n",
        "    entropy_test_vals.append(entropy)\n",
        "\n",
        "test_data['Entropy'] = entropy_test_vals"
      ]
    },
    {
      "cell_type": "code",
      "execution_count": null,
      "id": "3b0b676d",
      "metadata": {
        "execution": {
          "iopub.execute_input": "2022-11-21T14:22:10.089630Z",
          "iopub.status.busy": "2022-11-21T14:22:10.089169Z",
          "iopub.status.idle": "2022-11-21T14:22:10.100791Z",
          "shell.execute_reply": "2022-11-21T14:22:10.099651Z"
        },
        "papermill": {
          "duration": 0.025346,
          "end_time": "2022-11-21T14:22:10.103325",
          "exception": false,
          "start_time": "2022-11-21T14:22:10.077979",
          "status": "completed"
        },
        "tags": [],
        "id": "3b0b676d",
        "colab": {
          "base_uri": "https://localhost:8080/",
          "height": 206
        },
        "outputId": "f21fbee4-6403-470a-91ad-a8db1a28e706"
      },
      "outputs": [
        {
          "output_type": "execute_result",
          "data": {
            "text/plain": [
              "   Label                                              Query   Entropy\n",
              "0      1                         q+aJ04nrBA.hidemyself.org.  4.363713\n",
              "1      1                         q+aJ1InsBA.hidemyself.org.  4.363713\n",
              "2      1                         q+aJ1YntBA.hidemyself.org.  4.440636\n",
              "3      1  q+aJ1onuCDT2aA0NEkzbTnzRPgWJE7aYtQhjcSmnj74ufU...  5.838089\n",
              "4      1  q+aJ14nvCHKAcMCkiIhCb3eY1s8cgWt39jSJuK4299f/S5...  5.832916"
            ],
            "text/html": [
              "\n",
              "  <div id=\"df-b42cc6ba-7918-4981-a280-9f379163d322\">\n",
              "    <div class=\"colab-df-container\">\n",
              "      <div>\n",
              "<style scoped>\n",
              "    .dataframe tbody tr th:only-of-type {\n",
              "        vertical-align: middle;\n",
              "    }\n",
              "\n",
              "    .dataframe tbody tr th {\n",
              "        vertical-align: top;\n",
              "    }\n",
              "\n",
              "    .dataframe thead th {\n",
              "        text-align: right;\n",
              "    }\n",
              "</style>\n",
              "<table border=\"1\" class=\"dataframe\">\n",
              "  <thead>\n",
              "    <tr style=\"text-align: right;\">\n",
              "      <th></th>\n",
              "      <th>Label</th>\n",
              "      <th>Query</th>\n",
              "      <th>Entropy</th>\n",
              "    </tr>\n",
              "  </thead>\n",
              "  <tbody>\n",
              "    <tr>\n",
              "      <th>0</th>\n",
              "      <td>1</td>\n",
              "      <td>q+aJ04nrBA.hidemyself.org.</td>\n",
              "      <td>4.363713</td>\n",
              "    </tr>\n",
              "    <tr>\n",
              "      <th>1</th>\n",
              "      <td>1</td>\n",
              "      <td>q+aJ1InsBA.hidemyself.org.</td>\n",
              "      <td>4.363713</td>\n",
              "    </tr>\n",
              "    <tr>\n",
              "      <th>2</th>\n",
              "      <td>1</td>\n",
              "      <td>q+aJ1YntBA.hidemyself.org.</td>\n",
              "      <td>4.440636</td>\n",
              "    </tr>\n",
              "    <tr>\n",
              "      <th>3</th>\n",
              "      <td>1</td>\n",
              "      <td>q+aJ1onuCDT2aA0NEkzbTnzRPgWJE7aYtQhjcSmnj74ufU...</td>\n",
              "      <td>5.838089</td>\n",
              "    </tr>\n",
              "    <tr>\n",
              "      <th>4</th>\n",
              "      <td>1</td>\n",
              "      <td>q+aJ14nvCHKAcMCkiIhCb3eY1s8cgWt39jSJuK4299f/S5...</td>\n",
              "      <td>5.832916</td>\n",
              "    </tr>\n",
              "  </tbody>\n",
              "</table>\n",
              "</div>\n",
              "      <button class=\"colab-df-convert\" onclick=\"convertToInteractive('df-b42cc6ba-7918-4981-a280-9f379163d322')\"\n",
              "              title=\"Convert this dataframe to an interactive table.\"\n",
              "              style=\"display:none;\">\n",
              "        \n",
              "  <svg xmlns=\"http://www.w3.org/2000/svg\" height=\"24px\"viewBox=\"0 0 24 24\"\n",
              "       width=\"24px\">\n",
              "    <path d=\"M0 0h24v24H0V0z\" fill=\"none\"/>\n",
              "    <path d=\"M18.56 5.44l.94 2.06.94-2.06 2.06-.94-2.06-.94-.94-2.06-.94 2.06-2.06.94zm-11 1L8.5 8.5l.94-2.06 2.06-.94-2.06-.94L8.5 2.5l-.94 2.06-2.06.94zm10 10l.94 2.06.94-2.06 2.06-.94-2.06-.94-.94-2.06-.94 2.06-2.06.94z\"/><path d=\"M17.41 7.96l-1.37-1.37c-.4-.4-.92-.59-1.43-.59-.52 0-1.04.2-1.43.59L10.3 9.45l-7.72 7.72c-.78.78-.78 2.05 0 2.83L4 21.41c.39.39.9.59 1.41.59.51 0 1.02-.2 1.41-.59l7.78-7.78 2.81-2.81c.8-.78.8-2.07 0-2.86zM5.41 20L4 18.59l7.72-7.72 1.47 1.35L5.41 20z\"/>\n",
              "  </svg>\n",
              "      </button>\n",
              "      \n",
              "  <style>\n",
              "    .colab-df-container {\n",
              "      display:flex;\n",
              "      flex-wrap:wrap;\n",
              "      gap: 12px;\n",
              "    }\n",
              "\n",
              "    .colab-df-convert {\n",
              "      background-color: #E8F0FE;\n",
              "      border: none;\n",
              "      border-radius: 50%;\n",
              "      cursor: pointer;\n",
              "      display: none;\n",
              "      fill: #1967D2;\n",
              "      height: 32px;\n",
              "      padding: 0 0 0 0;\n",
              "      width: 32px;\n",
              "    }\n",
              "\n",
              "    .colab-df-convert:hover {\n",
              "      background-color: #E2EBFA;\n",
              "      box-shadow: 0px 1px 2px rgba(60, 64, 67, 0.3), 0px 1px 3px 1px rgba(60, 64, 67, 0.15);\n",
              "      fill: #174EA6;\n",
              "    }\n",
              "\n",
              "    [theme=dark] .colab-df-convert {\n",
              "      background-color: #3B4455;\n",
              "      fill: #D2E3FC;\n",
              "    }\n",
              "\n",
              "    [theme=dark] .colab-df-convert:hover {\n",
              "      background-color: #434B5C;\n",
              "      box-shadow: 0px 1px 3px 1px rgba(0, 0, 0, 0.15);\n",
              "      filter: drop-shadow(0px 1px 2px rgba(0, 0, 0, 0.3));\n",
              "      fill: #FFFFFF;\n",
              "    }\n",
              "  </style>\n",
              "\n",
              "      <script>\n",
              "        const buttonEl =\n",
              "          document.querySelector('#df-b42cc6ba-7918-4981-a280-9f379163d322 button.colab-df-convert');\n",
              "        buttonEl.style.display =\n",
              "          google.colab.kernel.accessAllowed ? 'block' : 'none';\n",
              "\n",
              "        async function convertToInteractive(key) {\n",
              "          const element = document.querySelector('#df-b42cc6ba-7918-4981-a280-9f379163d322');\n",
              "          const dataTable =\n",
              "            await google.colab.kernel.invokeFunction('convertToInteractive',\n",
              "                                                     [key], {});\n",
              "          if (!dataTable) return;\n",
              "\n",
              "          const docLinkHtml = 'Like what you see? Visit the ' +\n",
              "            '<a target=\"_blank\" href=https://colab.research.google.com/notebooks/data_table.ipynb>data table notebook</a>'\n",
              "            + ' to learn more about interactive tables.';\n",
              "          element.innerHTML = '';\n",
              "          dataTable['output_type'] = 'display_data';\n",
              "          await google.colab.output.renderOutput(dataTable, element);\n",
              "          const docLink = document.createElement('div');\n",
              "          docLink.innerHTML = docLinkHtml;\n",
              "          element.appendChild(docLink);\n",
              "        }\n",
              "      </script>\n",
              "    </div>\n",
              "  </div>\n",
              "  "
            ]
          },
          "metadata": {},
          "execution_count": 15
        }
      ],
      "source": [
        "test_data.head()"
      ]
    },
    {
      "cell_type": "code",
      "execution_count": null,
      "id": "3f9f50d2",
      "metadata": {
        "execution": {
          "iopub.execute_input": "2022-11-21T14:22:10.124033Z",
          "iopub.status.busy": "2022-11-21T14:22:10.123577Z",
          "iopub.status.idle": "2022-11-21T14:22:10.137944Z",
          "shell.execute_reply": "2022-11-21T14:22:10.136783Z"
        },
        "papermill": {
          "duration": 0.027656,
          "end_time": "2022-11-21T14:22:10.140554",
          "exception": false,
          "start_time": "2022-11-21T14:22:10.112898",
          "status": "completed"
        },
        "tags": [],
        "id": "3f9f50d2",
        "colab": {
          "base_uri": "https://localhost:8080/",
          "height": 206
        },
        "outputId": "27764b8d-d89e-407d-acba-0cb7eaedfbff"
      },
      "outputs": [
        {
          "output_type": "execute_result",
          "data": {
            "text/plain": [
              "      Label                     Query   Entropy\n",
              "2000      0               qqmail.com.  2.913977\n",
              "2001      0  ultimateclassicrock.com.  3.584963\n",
              "2002      0       businessinsider.my.  3.260828\n",
              "2003      0                skynet.be.  2.921928\n",
              "2004      0            ccgslb.com.cn.  2.896292"
            ],
            "text/html": [
              "\n",
              "  <div id=\"df-902d8345-36ab-482f-8a87-b465902d658a\">\n",
              "    <div class=\"colab-df-container\">\n",
              "      <div>\n",
              "<style scoped>\n",
              "    .dataframe tbody tr th:only-of-type {\n",
              "        vertical-align: middle;\n",
              "    }\n",
              "\n",
              "    .dataframe tbody tr th {\n",
              "        vertical-align: top;\n",
              "    }\n",
              "\n",
              "    .dataframe thead th {\n",
              "        text-align: right;\n",
              "    }\n",
              "</style>\n",
              "<table border=\"1\" class=\"dataframe\">\n",
              "  <thead>\n",
              "    <tr style=\"text-align: right;\">\n",
              "      <th></th>\n",
              "      <th>Label</th>\n",
              "      <th>Query</th>\n",
              "      <th>Entropy</th>\n",
              "    </tr>\n",
              "  </thead>\n",
              "  <tbody>\n",
              "    <tr>\n",
              "      <th>2000</th>\n",
              "      <td>0</td>\n",
              "      <td>qqmail.com.</td>\n",
              "      <td>2.913977</td>\n",
              "    </tr>\n",
              "    <tr>\n",
              "      <th>2001</th>\n",
              "      <td>0</td>\n",
              "      <td>ultimateclassicrock.com.</td>\n",
              "      <td>3.584963</td>\n",
              "    </tr>\n",
              "    <tr>\n",
              "      <th>2002</th>\n",
              "      <td>0</td>\n",
              "      <td>businessinsider.my.</td>\n",
              "      <td>3.260828</td>\n",
              "    </tr>\n",
              "    <tr>\n",
              "      <th>2003</th>\n",
              "      <td>0</td>\n",
              "      <td>skynet.be.</td>\n",
              "      <td>2.921928</td>\n",
              "    </tr>\n",
              "    <tr>\n",
              "      <th>2004</th>\n",
              "      <td>0</td>\n",
              "      <td>ccgslb.com.cn.</td>\n",
              "      <td>2.896292</td>\n",
              "    </tr>\n",
              "  </tbody>\n",
              "</table>\n",
              "</div>\n",
              "      <button class=\"colab-df-convert\" onclick=\"convertToInteractive('df-902d8345-36ab-482f-8a87-b465902d658a')\"\n",
              "              title=\"Convert this dataframe to an interactive table.\"\n",
              "              style=\"display:none;\">\n",
              "        \n",
              "  <svg xmlns=\"http://www.w3.org/2000/svg\" height=\"24px\"viewBox=\"0 0 24 24\"\n",
              "       width=\"24px\">\n",
              "    <path d=\"M0 0h24v24H0V0z\" fill=\"none\"/>\n",
              "    <path d=\"M18.56 5.44l.94 2.06.94-2.06 2.06-.94-2.06-.94-.94-2.06-.94 2.06-2.06.94zm-11 1L8.5 8.5l.94-2.06 2.06-.94-2.06-.94L8.5 2.5l-.94 2.06-2.06.94zm10 10l.94 2.06.94-2.06 2.06-.94-2.06-.94-.94-2.06-.94 2.06-2.06.94z\"/><path d=\"M17.41 7.96l-1.37-1.37c-.4-.4-.92-.59-1.43-.59-.52 0-1.04.2-1.43.59L10.3 9.45l-7.72 7.72c-.78.78-.78 2.05 0 2.83L4 21.41c.39.39.9.59 1.41.59.51 0 1.02-.2 1.41-.59l7.78-7.78 2.81-2.81c.8-.78.8-2.07 0-2.86zM5.41 20L4 18.59l7.72-7.72 1.47 1.35L5.41 20z\"/>\n",
              "  </svg>\n",
              "      </button>\n",
              "      \n",
              "  <style>\n",
              "    .colab-df-container {\n",
              "      display:flex;\n",
              "      flex-wrap:wrap;\n",
              "      gap: 12px;\n",
              "    }\n",
              "\n",
              "    .colab-df-convert {\n",
              "      background-color: #E8F0FE;\n",
              "      border: none;\n",
              "      border-radius: 50%;\n",
              "      cursor: pointer;\n",
              "      display: none;\n",
              "      fill: #1967D2;\n",
              "      height: 32px;\n",
              "      padding: 0 0 0 0;\n",
              "      width: 32px;\n",
              "    }\n",
              "\n",
              "    .colab-df-convert:hover {\n",
              "      background-color: #E2EBFA;\n",
              "      box-shadow: 0px 1px 2px rgba(60, 64, 67, 0.3), 0px 1px 3px 1px rgba(60, 64, 67, 0.15);\n",
              "      fill: #174EA6;\n",
              "    }\n",
              "\n",
              "    [theme=dark] .colab-df-convert {\n",
              "      background-color: #3B4455;\n",
              "      fill: #D2E3FC;\n",
              "    }\n",
              "\n",
              "    [theme=dark] .colab-df-convert:hover {\n",
              "      background-color: #434B5C;\n",
              "      box-shadow: 0px 1px 3px 1px rgba(0, 0, 0, 0.15);\n",
              "      filter: drop-shadow(0px 1px 2px rgba(0, 0, 0, 0.3));\n",
              "      fill: #FFFFFF;\n",
              "    }\n",
              "  </style>\n",
              "\n",
              "      <script>\n",
              "        const buttonEl =\n",
              "          document.querySelector('#df-902d8345-36ab-482f-8a87-b465902d658a button.colab-df-convert');\n",
              "        buttonEl.style.display =\n",
              "          google.colab.kernel.accessAllowed ? 'block' : 'none';\n",
              "\n",
              "        async function convertToInteractive(key) {\n",
              "          const element = document.querySelector('#df-902d8345-36ab-482f-8a87-b465902d658a');\n",
              "          const dataTable =\n",
              "            await google.colab.kernel.invokeFunction('convertToInteractive',\n",
              "                                                     [key], {});\n",
              "          if (!dataTable) return;\n",
              "\n",
              "          const docLinkHtml = 'Like what you see? Visit the ' +\n",
              "            '<a target=\"_blank\" href=https://colab.research.google.com/notebooks/data_table.ipynb>data table notebook</a>'\n",
              "            + ' to learn more about interactive tables.';\n",
              "          element.innerHTML = '';\n",
              "          dataTable['output_type'] = 'display_data';\n",
              "          await google.colab.output.renderOutput(dataTable, element);\n",
              "          const docLink = document.createElement('div');\n",
              "          docLink.innerHTML = docLinkHtml;\n",
              "          element.appendChild(docLink);\n",
              "        }\n",
              "      </script>\n",
              "    </div>\n",
              "  </div>\n",
              "  "
            ]
          },
          "metadata": {},
          "execution_count": 16
        }
      ],
      "source": [
        "# entropy values for malicious queries: featuring low entropy\n",
        "test_data[test_data['Label']==0].head()"
      ]
    },
    {
      "cell_type": "markdown",
      "id": "53699b95",
      "metadata": {
        "papermill": {
          "duration": 0.009096,
          "end_time": "2022-11-21T14:22:10.159348",
          "exception": false,
          "start_time": "2022-11-21T14:22:10.150252",
          "status": "completed"
        },
        "tags": [],
        "id": "53699b95"
      },
      "source": [
        "## Our Model Evaluation Function"
      ]
    },
    {
      "cell_type": "code",
      "execution_count": null,
      "id": "a179bf4e",
      "metadata": {
        "execution": {
          "iopub.execute_input": "2022-11-21T14:22:10.180267Z",
          "iopub.status.busy": "2022-11-21T14:22:10.179427Z",
          "iopub.status.idle": "2022-11-21T14:22:10.188390Z",
          "shell.execute_reply": "2022-11-21T14:22:10.187189Z"
        },
        "papermill": {
          "duration": 0.021913,
          "end_time": "2022-11-21T14:22:10.190715",
          "exception": false,
          "start_time": "2022-11-21T14:22:10.168802",
          "status": "completed"
        },
        "tags": [],
        "id": "a179bf4e"
      },
      "outputs": [],
      "source": [
        "def evaluate(predictions, targets):\n",
        "    targets = targets.to_numpy()\n",
        "    \n",
        "    tp = 0; tn = 0; fp = 0; fn = 0;\n",
        "    \n",
        "    for t in range(targets.shape[0]):\n",
        "        if targets[t] == 0:\n",
        "            if predictions[t] == 1:\n",
        "                fp += 1\n",
        "            else:\n",
        "                tn += 1\n",
        "        elif targets[t] == 1:\n",
        "            if predictions[t] == 1:\n",
        "                tp += 1\n",
        "            else:\n",
        "                fn += 1\n",
        "\n",
        "    print(\"True Positives :\", tp)\n",
        "    print(\"True Negatives :\", tn)\n",
        "    print(\"False Positives :\", fp)\n",
        "    print(\"False Negatives :\", fn)"
      ]
    },
    {
      "cell_type": "markdown",
      "id": "0307845a",
      "metadata": {
        "papermill": {
          "duration": 0.009043,
          "end_time": "2022-11-21T14:22:10.209381",
          "exception": false,
          "start_time": "2022-11-21T14:22:10.200338",
          "status": "completed"
        },
        "tags": [],
        "id": "0307845a"
      },
      "source": [
        "## Training the Model using DecisionTree Classifier"
      ]
    },
    {
      "cell_type": "markdown",
      "source": [
        "### Why  Decision Tree Classifier?\n",
        "Random Forest Classifier is making many decision trees and is a heavier model. we need a light and fast Tree based model.\n",
        "Tree based models are effective models for DNS tunnelling detection because they can handle large datasets, complex relationships between features, and can provide interpretable results."
      ],
      "metadata": {
        "id": "QsA094RzhSRL"
      },
      "id": "QsA094RzhSRL"
    },
    {
      "cell_type": "code",
      "execution_count": null,
      "id": "1cf15485",
      "metadata": {
        "execution": {
          "iopub.execute_input": "2022-11-21T14:22:10.229929Z",
          "iopub.status.busy": "2022-11-21T14:22:10.229509Z",
          "iopub.status.idle": "2022-11-21T14:22:10.238541Z",
          "shell.execute_reply": "2022-11-21T14:22:10.237252Z"
        },
        "papermill": {
          "duration": 0.021931,
          "end_time": "2022-11-21T14:22:10.240821",
          "exception": false,
          "start_time": "2022-11-21T14:22:10.218890",
          "status": "completed"
        },
        "tags": [],
        "id": "1cf15485",
        "colab": {
          "base_uri": "https://localhost:8080/"
        },
        "outputId": "e6ba33a6-3f22-40bb-8f5c-46670d27f212"
      },
      "outputs": [
        {
          "output_type": "execute_result",
          "data": {
            "text/plain": [
              "0    4.363713\n",
              "1    4.363713\n",
              "2    4.363713\n",
              "3    4.286790\n",
              "4    5.752803\n",
              "Name: Entropy, dtype: float64"
            ]
          },
          "metadata": {},
          "execution_count": 18
        }
      ],
      "source": [
        "X_train = training_data['Entropy'] # the training input entropy\n",
        "Y_train = training_data['Label']   # the corresponding classifying label for training\n",
        "\n",
        "X_train.head()"
      ]
    },
    {
      "cell_type": "code",
      "execution_count": null,
      "id": "5e4682be",
      "metadata": {
        "execution": {
          "iopub.execute_input": "2022-11-21T14:22:10.261488Z",
          "iopub.status.busy": "2022-11-21T14:22:10.261086Z",
          "iopub.status.idle": "2022-11-21T14:22:10.272163Z",
          "shell.execute_reply": "2022-11-21T14:22:10.270922Z"
        },
        "papermill": {
          "duration": 0.024246,
          "end_time": "2022-11-21T14:22:10.274504",
          "exception": false,
          "start_time": "2022-11-21T14:22:10.250258",
          "status": "completed"
        },
        "tags": [],
        "id": "5e4682be",
        "colab": {
          "base_uri": "https://localhost:8080/"
        },
        "outputId": "c185d23c-b58d-4131-bdb6-8acabaa7a943"
      },
      "outputs": [
        {
          "output_type": "execute_result",
          "data": {
            "text/plain": [
              "7919     0\n",
              "13329    1\n",
              "5872     1\n",
              "12746    1\n",
              "14810    1\n",
              "Name: Label, dtype: int64"
            ]
          },
          "metadata": {},
          "execution_count": 19
        }
      ],
      "source": [
        "X_train, Y_train = shuffle(X_train, Y_train) # to reduce overfitting during training\n",
        "X_train.ravel() # contiguous array\n",
        "Y_train.head()"
      ]
    },
    {
      "cell_type": "code",
      "execution_count": null,
      "id": "ad8ff65d",
      "metadata": {
        "execution": {
          "iopub.execute_input": "2022-11-21T14:22:10.296264Z",
          "iopub.status.busy": "2022-11-21T14:22:10.295861Z",
          "iopub.status.idle": "2022-11-21T14:22:10.300862Z",
          "shell.execute_reply": "2022-11-21T14:22:10.299493Z"
        },
        "papermill": {
          "duration": 0.018742,
          "end_time": "2022-11-21T14:22:10.303346",
          "exception": false,
          "start_time": "2022-11-21T14:22:10.284604",
          "status": "completed"
        },
        "tags": [],
        "id": "ad8ff65d"
      },
      "outputs": [],
      "source": [
        "# reshape the training features into unknown rows but 1 column\n",
        "X_train = X_train.values.reshape(-1, 1)\n",
        "Y_train = Y_train.values.reshape(-1, 1)"
      ]
    },
    {
      "cell_type": "code",
      "execution_count": null,
      "id": "ef6400ee",
      "metadata": {
        "execution": {
          "iopub.execute_input": "2022-11-21T14:22:10.324881Z",
          "iopub.status.busy": "2022-11-21T14:22:10.324430Z",
          "iopub.status.idle": "2022-11-21T14:22:10.345047Z",
          "shell.execute_reply": "2022-11-21T14:22:10.343580Z"
        },
        "papermill": {
          "duration": 0.034337,
          "end_time": "2022-11-21T14:22:10.347488",
          "exception": false,
          "start_time": "2022-11-21T14:22:10.313151",
          "status": "completed"
        },
        "tags": [],
        "id": "ef6400ee",
        "colab": {
          "base_uri": "https://localhost:8080/"
        },
        "outputId": "80e2e0e3-c744-4bbc-9704-ca8ada215ded"
      },
      "outputs": [
        {
          "output_type": "stream",
          "name": "stdout",
          "text": [
            "The time taken is:  25.940895080566406 millisec\n"
          ]
        }
      ],
      "source": [
        "start = time.time()\n",
        "\n",
        "model = DecisionTreeClassifier()   \n",
        "model.fit(X_train, Y_train)\n",
        "\n",
        "end = time.time()\n",
        "print(\"The time taken is: \",(end-start)*1000,\"millisec\")"
      ]
    },
    {
      "cell_type": "code",
      "execution_count": null,
      "id": "f0da37ce",
      "metadata": {
        "execution": {
          "iopub.execute_input": "2022-11-21T14:22:10.370080Z",
          "iopub.status.busy": "2022-11-21T14:22:10.369113Z",
          "iopub.status.idle": "2022-11-21T14:22:10.389408Z",
          "shell.execute_reply": "2022-11-21T14:22:10.388312Z"
        },
        "papermill": {
          "duration": 0.034225,
          "end_time": "2022-11-21T14:22:10.391852",
          "exception": false,
          "start_time": "2022-11-21T14:22:10.357627",
          "status": "completed"
        },
        "tags": [],
        "id": "f0da37ce"
      },
      "outputs": [],
      "source": [
        "X_test = test_data['Entropy']      # the test entropy for testing\n",
        "Y_test = test_data['Label']       # the expected corresponding Label after training\n",
        "\n",
        "X_test  = X_test.values.reshape(-1, 1)\n",
        "\n",
        "y_preds = model.predict(X_test)"
      ]
    },
    {
      "cell_type": "code",
      "source": [
        "evaluate(y_preds, Y_test)\n"
      ],
      "metadata": {
        "colab": {
          "base_uri": "https://localhost:8080/"
        },
        "id": "fs0WIYvkoTkC",
        "outputId": "8d959bde-b956-46a5-bd5d-86e3426d2ad7"
      },
      "id": "fs0WIYvkoTkC",
      "execution_count": null,
      "outputs": [
        {
          "output_type": "stream",
          "name": "stdout",
          "text": [
            "True Positives : 4000\n",
            "True Negatives : 991\n",
            "False Positives : 9\n",
            "False Negatives : 0\n"
          ]
        }
      ]
    },
    {
      "cell_type": "code",
      "source": [
        "import sklearn.metrics as metrics\n",
        "import seaborn as sn\n",
        "\n",
        "cm_dt = metrics.confusion_matrix(Y_test, y_preds)\n",
        "sn.heatmap(cm_dt, annot=True,  fmt='.2f', xticklabels = [1, 0] , yticklabels = [1,0],cbar=True)\n",
        "plt.xlabel('True labels',fontsize=12)\n",
        "plt.ylabel('Predicted labels',fontsize=12)\n",
        "\n",
        "sn.set(rc={'figure.figsize':(8,15)})"
      ],
      "metadata": {
        "id": "tJEntfU3ie07",
        "colab": {
          "base_uri": "https://localhost:8080/",
          "height": 506
        },
        "outputId": "8d9c6df0-5894-4d13-f52a-aaac0bdb313c"
      },
      "id": "tJEntfU3ie07",
      "execution_count": null,
      "outputs": [
        {
          "output_type": "display_data",
          "data": {
            "text/plain": [
              "<Figure size 936x576 with 2 Axes>"
            ],
            "image/png": "[encoded data removed]"
          },
          "metadata": {}
        }
      ]
    },
    {
      "cell_type": "code",
      "execution_count": null,
      "metadata": {
        "execution": {
          "iopub.execute_input": "2022-11-21T14:22:10.413911Z",
          "iopub.status.busy": "2022-11-21T14:22:10.412775Z",
          "iopub.status.idle": "2022-11-21T14:22:10.421386Z",
          "shell.execute_reply": "2022-11-21T14:22:10.420162Z"
        },
        "papermill": {
          "duration": 0.022451,
          "end_time": "2022-11-21T14:22:10.424074",
          "exception": false,
          "start_time": "2022-11-21T14:22:10.401623",
          "status": "completed"
        },
        "tags": [],
        "colab": {
          "base_uri": "https://localhost:8080/"
        },
        "outputId": "68a70195-9eb7-429d-f632-fb39efa52047",
        "id": "6XAUPkzXLkfq"
      },
      "outputs": [
        {
          "output_type": "stream",
          "name": "stdout",
          "text": [
            "Detection Accuracy:  99.82 %\n"
          ]
        }
      ],
      "source": [
        "print(\"Detection Accuracy: \",accuracy_score(Y_test, y_preds)*100,\"%\")"
      ],
      "id": "6XAUPkzXLkfq"
    },
    {
      "cell_type": "markdown",
      "id": "95cfa4f0",
      "metadata": {
        "_kg_hide-input": false,
        "papermill": {
          "duration": 0.00937,
          "end_time": "2022-11-21T14:22:10.443164",
          "exception": false,
          "start_time": "2022-11-21T14:22:10.433794",
          "status": "completed"
        },
        "tags": [],
        "id": "95cfa4f0"
      },
      "source": [
        "## Export Model"
      ]
    },
    {
      "cell_type": "code",
      "execution_count": null,
      "id": "62164194",
      "metadata": {
        "execution": {
          "iopub.execute_input": "2022-11-21T14:22:10.464192Z",
          "iopub.status.busy": "2022-11-21T14:22:10.463794Z",
          "iopub.status.idle": "2022-11-21T14:22:10.470051Z",
          "shell.execute_reply": "2022-11-21T14:22:10.468812Z"
        },
        "papermill": {
          "duration": 0.019701,
          "end_time": "2022-11-21T14:22:10.472592",
          "exception": false,
          "start_time": "2022-11-21T14:22:10.452891",
          "status": "completed"
        },
        "tags": [],
        "id": "62164194"
      },
      "outputs": [],
      "source": [
        "import pickle\n",
        "\n",
        "pickle.dump(model, open(\"ML_DecisionTree.pkl\", \"wb\"))"
      ]
    }
  ],
  "metadata": {
    "kernelspec": {
      "display_name": "Python 3",
      "language": "python",
      "name": "python3"
    },
    "language_info": {
      "codemirror_mode": {
        "name": "ipython",
        "version": 3
      },
      "file_extension": ".py",
      "mimetype": "text/x-python",
      "name": "python",
      "nbconvert_exporter": "python",
      "pygments_lexer": "ipython3",
      "version": "3.7.12"
    },
    "papermill": {
      "default_parameters": {},
      "duration": 17.081224,
      "end_time": "2022-11-21T14:22:11.224070",
      "environment_variables": {},
      "exception": null,
      "input_path": "__notebook__.ipynb",
      "output_path": "__notebook__.ipynb",
      "parameters": {},
      "start_time": "2022-11-21T14:21:54.142846",
      "version": "2.3.4"
    },
    "colab": {
      "provenance": []
    }
  },
  "nbformat": 4,
  "nbformat_minor": 5
}
{
  "metadata": {
    "kernelspec": {
      "language": "python",
      "display_name": "Python 3",
      "name": "python3"
    },
    "language_info": {
      "name": "python",
      "version": "3.6.6",
      "mimetype": "text/x-python",
      "codemirror_mode": {
        "name": "ipython",
        "version": 3
      },
      "pygments_lexer": "ipython3",
      "nbconvert_exporter": "python",
      "file_extension": ".py"
    },
    "colab": {
      "provenance": []
    }
  },
  "nbformat_minor": 0,
  "nbformat": 4,
  "cells": [
    {
      "cell_type": "markdown",
      "source": [
        "# Libraries\n"
      ],
      "metadata": {
        "id": "gfW9cIZjYyea"
      }
    },
    {
      "cell_type": "code",
      "source": [
        "from mpl_toolkits.mplot3d import Axes3D\n",
        "from sklearn.preprocessing import StandardScaler\n",
        "import matplotlib.pyplot as plt # plotting\n",
        "import numpy as np # linear algebra\n",
        "import os # accessing directory structure\n",
        "import pandas as pd # data processing, CSV file I/O (e.g. pd.read_csv)\n"
      ],
      "metadata": {
        "_kg_hide-input": false,
        "execution": {
          "iopub.status.busy": "2023-02-27T15:25:09.327684Z",
          "iopub.execute_input": "2023-02-27T15:25:09.327967Z",
          "iopub.status.idle": "2023-02-27T15:25:09.334337Z",
          "shell.execute_reply.started": "2023-02-27T15:25:09.327933Z",
          "shell.execute_reply": "2023-02-27T15:25:09.332660Z"
        },
        "trusted": true,
        "id": "g9iVkjRvYyfQ"
      },
      "execution_count": null,
      "outputs": []
    },
    {
      "cell_type": "markdown",
      "source": [
        "# DataSet\n"
      ],
      "metadata": {
        "id": "s32_pEGNYyfk"
      }
    },
    {
      "cell_type": "code",
      "source": [
        "for dirname, _, filenames in os.walk('/kaggle/input'):\n",
        "    for filename in filenames:\n",
        "        print(os.path.join(dirname, filename))\n"
      ],
      "metadata": {
        "_kg_hide-input": false,
        "execution": {
          "iopub.status.busy": "2023-02-27T15:25:09.365296Z",
          "iopub.execute_input": "2023-02-27T15:25:09.365594Z",
          "iopub.status.idle": "2023-02-27T15:25:09.386393Z",
          "shell.execute_reply.started": "2023-02-27T15:25:09.365548Z",
          "shell.execute_reply": "2023-02-27T15:25:09.385535Z"
        },
        "trusted": true,
        "id": "nAJJCoyeYyft",
        "outputId": "b4261ef2-f103-42d8-be3a-3dec6bd180e8"
      },
      "execution_count": null,
      "outputs": [
        {
          "name": "stdout",
          "text": "/kaggle/input/MachineLearningCSV.md5\n/kaggle/input/MachineLearningCSV/MachineLearningCVE/Friday-WorkingHours-Afternoon-PortScan.pcap_ISCX.csv\n/kaggle/input/MachineLearningCSV/MachineLearningCVE/Thursday-WorkingHours-Morning-WebAttacks.pcap_ISCX.csv\n/kaggle/input/MachineLearningCSV/MachineLearningCVE/Tuesday-WorkingHours.pcap_ISCX.csv\n/kaggle/input/MachineLearningCSV/MachineLearningCVE/Friday-WorkingHours-Afternoon-DDos.pcap_ISCX.csv\n/kaggle/input/MachineLearningCSV/MachineLearningCVE/Monday-WorkingHours.pcap_ISCX.csv\n/kaggle/input/MachineLearningCSV/MachineLearningCVE/Friday-WorkingHours-Morning.pcap_ISCX.csv\n/kaggle/input/MachineLearningCSV/MachineLearningCVE/Thursday-WorkingHours-Afternoon-Infilteration.pcap_ISCX.csv\n/kaggle/input/MachineLearningCSV/MachineLearningCVE/Wednesday-workingHours.pcap_ISCX.csv\n",
          "output_type": "stream"
        }
      ]
    },
    {
      "cell_type": "code",
      "source": [
        "pd.set_option('display.max_columns', None)\n",
        "pd.set_option('display.max_rows', None)\n",
        "nRowsRead = None # Čita sve redove, moguće je pročitati samo određeni broj\n",
        "\n",
        "df1 = pd.read_csv(\"/kaggle/input/MachineLearningCSV/MachineLearningCVE/Friday-WorkingHours-Afternoon-DDos.pcap_ISCX.csv\")\n",
        "df2=pd.read_csv(\"/kaggle/input/MachineLearningCSV/MachineLearningCVE/Friday-WorkingHours-Afternoon-PortScan.pcap_ISCX.csv\")\n",
        "df3=pd.read_csv(\"/kaggle/input/MachineLearningCSV/MachineLearningCVE/Friday-WorkingHours-Morning.pcap_ISCX.csv\")\n",
        "df4=pd.read_csv(\"/kaggle/input/MachineLearningCSV/MachineLearningCVE/Monday-WorkingHours.pcap_ISCX.csv\")\n",
        "df5=pd.read_csv(\"/kaggle/input/MachineLearningCSV/MachineLearningCVE/Thursday-WorkingHours-Afternoon-Infilteration.pcap_ISCX.csv\")\n",
        "df6=pd.read_csv(\"/kaggle/input/MachineLearningCSV/MachineLearningCVE/Thursday-WorkingHours-Morning-WebAttacks.pcap_ISCX.csv\")\n",
        "df7=pd.read_csv(\"/kaggle/input/MachineLearningCSV/MachineLearningCVE/Tuesday-WorkingHours.pcap_ISCX.csv\")\n",
        "df8=pd.read_csv(\"/kaggle/input/MachineLearningCSV/MachineLearningCVE/Wednesday-workingHours.pcap_ISCX.csv\")\n",
        "df = pd.DataFrame()\n",
        "\n",
        "df = pd.concat([df1,df2])\n",
        "del df1,df2\n",
        "df = pd.concat([df,df3])\n",
        "del df3\n",
        "df = pd.concat([df,df4])\n",
        "del df4\n",
        "df = pd.concat([df,df5])\n",
        "del df5\n",
        "df = pd.concat([df,df6])\n",
        "del df6\n",
        "df = pd.concat([df,df7])\n",
        "del df7\n",
        "df = pd.concat([df,df8])\n",
        "del df8"
      ],
      "metadata": {
        "_kg_hide-input": false,
        "execution": {
          "iopub.status.busy": "2023-02-27T15:25:09.428355Z",
          "iopub.execute_input": "2023-02-27T15:25:09.429300Z",
          "iopub.status.idle": "2023-02-27T15:25:32.953350Z",
          "shell.execute_reply.started": "2023-02-27T15:25:09.429049Z",
          "shell.execute_reply": "2023-02-27T15:25:32.950885Z"
        },
        "trusted": true,
        "id": "b1NwvAmjYyfx",
        "outputId": "1ffdac2c-5f8a-42f6-e614-7414a932fdb2"
      },
      "execution_count": null,
      "outputs": [
        {
          "name": "stderr",
          "text": "/opt/conda/lib/python3.6/site-packages/IPython/core/interactiveshell.py:3058: DtypeWarning: Columns (14,15) have mixed types. Specify dtype option on import or set low_memory=False.\n  interactivity=interactivity, compiler=compiler, result=result)\n/opt/conda/lib/python3.6/site-packages/IPython/core/interactiveshell.py:3058: DtypeWarning: Columns (14) have mixed types. Specify dtype option on import or set low_memory=False.\n  interactivity=interactivity, compiler=compiler, result=result)\n",
          "output_type": "stream"
        }
      ]
    },
    {
      "cell_type": "markdown",
      "source": [
        "# Exploratory Analysis"
      ],
      "metadata": {
        "id": "7O8WM3BvYyf0"
      }
    },
    {
      "cell_type": "code",
      "source": [
        "nRow, nCol = df.shape\n",
        "print(f'This Dataset has {nRow} rows and {nCol} columns')"
      ],
      "metadata": {
        "execution": {
          "iopub.status.busy": "2023-02-27T15:25:32.955710Z",
          "iopub.execute_input": "2023-02-27T15:25:32.955995Z",
          "iopub.status.idle": "2023-02-27T15:25:32.962146Z",
          "shell.execute_reply.started": "2023-02-27T15:25:32.955951Z",
          "shell.execute_reply": "2023-02-27T15:25:32.960649Z"
        },
        "trusted": true,
        "id": "dZUlANG-Yyf2",
        "outputId": "0e9cab66-b80b-474c-da63-f636b85c4b70"
      },
      "execution_count": null,
      "outputs": [
        {
          "name": "stdout",
          "text": "This Dataset has 2830743 rows and 79 columns\n",
          "output_type": "stream"
        }
      ]
    },
    {
      "cell_type": "code",
      "source": [
        "df.head()"
      ],
      "metadata": {
        "_kg_hide-input": false,
        "execution": {
          "iopub.status.busy": "2023-02-27T15:25:32.963972Z",
          "iopub.execute_input": "2023-02-27T15:25:32.964268Z",
          "iopub.status.idle": "2023-02-27T15:25:33.025892Z",
          "shell.execute_reply.started": "2023-02-27T15:25:32.964217Z",
          "shell.execute_reply": "2023-02-27T15:25:33.024683Z"
        },
        "trusted": true,
        "id": "QWG5YkCuYyf4",
        "outputId": "e3103b2e-9bc2-480f-f552-f072a77a7994"
      },
      "execution_count": null,
      "outputs": [
        {
          "execution_count": 59,
          "output_type": "execute_result",
          "data": {
            "text/plain": "    Destination Port   Flow Duration   Total Fwd Packets  \\\n0              54865               3                   2   \n1              55054             109                   1   \n2              55055              52                   1   \n3              46236              34                   1   \n4              54863               3                   2   \n\n    Total Backward Packets  Total Length of Fwd Packets  \\\n0                        0                           12   \n1                        1                            6   \n2                        1                            6   \n3                        1                            6   \n4                        0                           12   \n\n    Total Length of Bwd Packets   Fwd Packet Length Max  \\\n0                             0                       6   \n1                             6                       6   \n2                             6                       6   \n3                             6                       6   \n4                             0                       6   \n\n    Fwd Packet Length Min   Fwd Packet Length Mean   Fwd Packet Length Std  \\\n0                       6                      6.0                     0.0   \n1                       6                      6.0                     0.0   \n2                       6                      6.0                     0.0   \n3                       6                      6.0                     0.0   \n4                       6                      6.0                     0.0   \n\n   Bwd Packet Length Max   Bwd Packet Length Min   Bwd Packet Length Mean  \\\n0                      0                       0                      0.0   \n1                      6                       6                      6.0   \n2                      6                       6                      6.0   \n3                      6                       6                      6.0   \n4                      0                       0                      0.0   \n\n    Bwd Packet Length Std Flow Bytes/s  Flow Packets/s   Flow IAT Mean  \\\n0                     0.0      4000000     666666.6667             3.0   \n1                     0.0  110091.7431     18348.62385           109.0   \n2                     0.0  230769.2308     38461.53846            52.0   \n3                     0.0  352941.1765     58823.52941            34.0   \n4                     0.0      4000000     666666.6667             3.0   \n\n    Flow IAT Std   Flow IAT Max   Flow IAT Min  Fwd IAT Total   Fwd IAT Mean  \\\n0            0.0              3              3              3            3.0   \n1            0.0            109            109              0            0.0   \n2            0.0             52             52              0            0.0   \n3            0.0             34             34              0            0.0   \n4            0.0              3              3              3            3.0   \n\n    Fwd IAT Std   Fwd IAT Max   Fwd IAT Min  Bwd IAT Total   Bwd IAT Mean  \\\n0           0.0             3             3              0            0.0   \n1           0.0             0             0              0            0.0   \n2           0.0             0             0              0            0.0   \n3           0.0             0             0              0            0.0   \n4           0.0             3             3              0            0.0   \n\n    Bwd IAT Std   Bwd IAT Max   Bwd IAT Min  Fwd PSH Flags   Bwd PSH Flags  \\\n0           0.0             0             0              0               0   \n1           0.0             0             0              0               0   \n2           0.0             0             0              0               0   \n3           0.0             0             0              0               0   \n4           0.0             0             0              0               0   \n\n    Fwd URG Flags   Bwd URG Flags   Fwd Header Length   Bwd Header Length  \\\n0               0               0                  40                   0   \n1               0               0                  20                  20   \n2               0               0                  20                  20   \n3               0               0                  20                  20   \n4               0               0                  40                   0   \n\n   Fwd Packets/s   Bwd Packets/s   Min Packet Length   Max Packet Length  \\\n0  666666.666700        0.000000                   6                   6   \n1    9174.311927     9174.311927                   6                   6   \n2   19230.769230    19230.769230                   6                   6   \n3   29411.764710    29411.764710                   6                   6   \n4  666666.666700        0.000000                   6                   6   \n\n    Packet Length Mean   Packet Length Std   Packet Length Variance  \\\n0                  6.0                 0.0                      0.0   \n1                  6.0                 0.0                      0.0   \n2                  6.0                 0.0                      0.0   \n3                  6.0                 0.0                      0.0   \n4                  6.0                 0.0                      0.0   \n\n   FIN Flag Count   SYN Flag Count   RST Flag Count   PSH Flag Count  \\\n0               0                0                0                0   \n1               0                0                0                0   \n2               0                0                0                0   \n3               0                0                0                0   \n4               0                0                0                0   \n\n    ACK Flag Count   URG Flag Count   CWE Flag Count   ECE Flag Count  \\\n0                1                0                0                0   \n1                1                1                0                0   \n2                1                1                0                0   \n3                1                1                0                0   \n4                1                0                0                0   \n\n    Down/Up Ratio   Average Packet Size   Avg Fwd Segment Size  \\\n0               0                   9.0                    6.0   \n1               1                   9.0                    6.0   \n2               1                   9.0                    6.0   \n3               1                   9.0                    6.0   \n4               0                   9.0                    6.0   \n\n    Avg Bwd Segment Size   Fwd Header Length.1  Fwd Avg Bytes/Bulk  \\\n0                    0.0                    40                   0   \n1                    6.0                    20                   0   \n2                    6.0                    20                   0   \n3                    6.0                    20                   0   \n4                    0.0                    40                   0   \n\n    Fwd Avg Packets/Bulk   Fwd Avg Bulk Rate   Bwd Avg Bytes/Bulk  \\\n0                      0                   0                    0   \n1                      0                   0                    0   \n2                      0                   0                    0   \n3                      0                   0                    0   \n4                      0                   0                    0   \n\n    Bwd Avg Packets/Bulk  Bwd Avg Bulk Rate  Subflow Fwd Packets  \\\n0                      0                  0                    2   \n1                      0                  0                    1   \n2                      0                  0                    1   \n3                      0                  0                    1   \n4                      0                  0                    2   \n\n    Subflow Fwd Bytes   Subflow Bwd Packets   Subflow Bwd Bytes  \\\n0                  12                     0                   0   \n1                   6                     1                   6   \n2                   6                     1                   6   \n3                   6                     1                   6   \n4                  12                     0                   0   \n\n   Init_Win_bytes_forward   Init_Win_bytes_backward   act_data_pkt_fwd  \\\n0                      33                        -1                  1   \n1                      29                       256                  0   \n2                      29                       256                  0   \n3                      31                       329                  0   \n4                      32                        -1                  1   \n\n    min_seg_size_forward  Active Mean   Active Std   Active Max   Active Min  \\\n0                     20          0.0          0.0            0            0   \n1                     20          0.0          0.0            0            0   \n2                     20          0.0          0.0            0            0   \n3                     20          0.0          0.0            0            0   \n4                     20          0.0          0.0            0            0   \n\n   Idle Mean   Idle Std   Idle Max   Idle Min   Label  \n0        0.0        0.0          0          0  BENIGN  \n1        0.0        0.0          0          0  BENIGN  \n2        0.0        0.0          0          0  BENIGN  \n3        0.0        0.0          0          0  BENIGN  \n4        0.0        0.0          0          0  BENIGN  ",
            "text/html": "<div>\n<style scoped>\n    .dataframe tbody tr th:only-of-type {\n        vertical-align: middle;\n    }\n\n    .dataframe tbody tr th {\n        vertical-align: top;\n    }\n\n    .dataframe thead th {\n        text-align: right;\n    }\n</style>\n<table border=\"1\" class=\"dataframe\">\n  <thead>\n    <tr style=\"text-align: right;\">\n      <th></th>\n      <th>Destination Port</th>\n      <th>Flow Duration</th>\n      <th>Total Fwd Packets</th>\n      <th>Total Backward Packets</th>\n      <th>Total Length of Fwd Packets</th>\n      <th>Total Length of Bwd Packets</th>\n      <th>Fwd Packet Length Max</th>\n      <th>Fwd Packet Length Min</th>\n      <th>Fwd Packet Length Mean</th>\n      <th>Fwd Packet Length Std</th>\n      <th>Bwd Packet Length Max</th>\n      <th>Bwd Packet Length Min</th>\n      <th>Bwd Packet Length Mean</th>\n      <th>Bwd Packet Length Std</th>\n      <th>Flow Bytes/s</th>\n      <th>Flow Packets/s</th>\n      <th>Flow IAT Mean</th>\n      <th>Flow IAT Std</th>\n      <th>Flow IAT Max</th>\n      <th>Flow IAT Min</th>\n      <th>Fwd IAT Total</th>\n      <th>Fwd IAT Mean</th>\n      <th>Fwd IAT Std</th>\n      <th>Fwd IAT Max</th>\n      <th>Fwd IAT Min</th>\n      <th>Bwd IAT Total</th>\n      <th>Bwd IAT Mean</th>\n      <th>Bwd IAT Std</th>\n      <th>Bwd IAT Max</th>\n      <th>Bwd IAT Min</th>\n      <th>Fwd PSH Flags</th>\n      <th>Bwd PSH Flags</th>\n      <th>Fwd URG Flags</th>\n      <th>Bwd URG Flags</th>\n      <th>Fwd Header Length</th>\n      <th>Bwd Header Length</th>\n      <th>Fwd Packets/s</th>\n      <th>Bwd Packets/s</th>\n      <th>Min Packet Length</th>\n      <th>Max Packet Length</th>\n      <th>Packet Length Mean</th>\n      <th>Packet Length Std</th>\n      <th>Packet Length Variance</th>\n      <th>FIN Flag Count</th>\n      <th>SYN Flag Count</th>\n      <th>RST Flag Count</th>\n      <th>PSH Flag Count</th>\n      <th>ACK Flag Count</th>\n      <th>URG Flag Count</th>\n      <th>CWE Flag Count</th>\n      <th>ECE Flag Count</th>\n      <th>Down/Up Ratio</th>\n      <th>Average Packet Size</th>\n      <th>Avg Fwd Segment Size</th>\n      <th>Avg Bwd Segment Size</th>\n      <th>Fwd Header Length.1</th>\n      <th>Fwd Avg Bytes/Bulk</th>\n      <th>Fwd Avg Packets/Bulk</th>\n      <th>Fwd Avg Bulk Rate</th>\n      <th>Bwd Avg Bytes/Bulk</th>\n      <th>Bwd Avg Packets/Bulk</th>\n      <th>Bwd Avg Bulk Rate</th>\n      <th>Subflow Fwd Packets</th>\n      <th>Subflow Fwd Bytes</th>\n      <th>Subflow Bwd Packets</th>\n      <th>Subflow Bwd Bytes</th>\n      <th>Init_Win_bytes_forward</th>\n      <th>Init_Win_bytes_backward</th>\n      <th>act_data_pkt_fwd</th>\n      <th>min_seg_size_forward</th>\n      <th>Active Mean</th>\n      <th>Active Std</th>\n      <th>Active Max</th>\n      <th>Active Min</th>\n      <th>Idle Mean</th>\n      <th>Idle Std</th>\n      <th>Idle Max</th>\n      <th>Idle Min</th>\n      <th>Label</th>\n    </tr>\n  </thead>\n  <tbody>\n    <tr>\n      <th>0</th>\n      <td>54865</td>\n      <td>3</td>\n      <td>2</td>\n      <td>0</td>\n      <td>12</td>\n      <td>0</td>\n      <td>6</td>\n      <td>6</td>\n      <td>6.0</td>\n      <td>0.0</td>\n      <td>0</td>\n      <td>0</td>\n      <td>0.0</td>\n      <td>0.0</td>\n      <td>4000000</td>\n      <td>666666.6667</td>\n      <td>3.0</td>\n      <td>0.0</td>\n      <td>3</td>\n      <td>3</td>\n      <td>3</td>\n      <td>3.0</td>\n      <td>0.0</td>\n      <td>3</td>\n      <td>3</td>\n      <td>0</td>\n      <td>0.0</td>\n      <td>0.0</td>\n      <td>0</td>\n      <td>0</td>\n      <td>0</td>\n      <td>0</td>\n      <td>0</td>\n      <td>0</td>\n      <td>40</td>\n      <td>0</td>\n      <td>666666.666700</td>\n      <td>0.000000</td>\n      <td>6</td>\n      <td>6</td>\n      <td>6.0</td>\n      <td>0.0</td>\n      <td>0.0</td>\n      <td>0</td>\n      <td>0</td>\n      <td>0</td>\n      <td>0</td>\n      <td>1</td>\n      <td>0</td>\n      <td>0</td>\n      <td>0</td>\n      <td>0</td>\n      <td>9.0</td>\n      <td>6.0</td>\n      <td>0.0</td>\n      <td>40</td>\n      <td>0</td>\n      <td>0</td>\n      <td>0</td>\n      <td>0</td>\n      <td>0</td>\n      <td>0</td>\n      <td>2</td>\n      <td>12</td>\n      <td>0</td>\n      <td>0</td>\n      <td>33</td>\n      <td>-1</td>\n      <td>1</td>\n      <td>20</td>\n      <td>0.0</td>\n      <td>0.0</td>\n      <td>0</td>\n      <td>0</td>\n      <td>0.0</td>\n      <td>0.0</td>\n      <td>0</td>\n      <td>0</td>\n      <td>BENIGN</td>\n    </tr>\n    <tr>\n      <th>1</th>\n      <td>55054</td>\n      <td>109</td>\n      <td>1</td>\n      <td>1</td>\n      <td>6</td>\n      <td>6</td>\n      <td>6</td>\n      <td>6</td>\n      <td>6.0</td>\n      <td>0.0</td>\n      <td>6</td>\n      <td>6</td>\n      <td>6.0</td>\n      <td>0.0</td>\n      <td>110091.7431</td>\n      <td>18348.62385</td>\n      <td>109.0</td>\n      <td>0.0</td>\n      <td>109</td>\n      <td>109</td>\n      <td>0</td>\n      <td>0.0</td>\n      <td>0.0</td>\n      <td>0</td>\n      <td>0</td>\n      <td>0</td>\n      <td>0.0</td>\n      <td>0.0</td>\n      <td>0</td>\n      <td>0</td>\n      <td>0</td>\n      <td>0</td>\n      <td>0</td>\n      <td>0</td>\n      <td>20</td>\n      <td>20</td>\n      <td>9174.311927</td>\n      <td>9174.311927</td>\n      <td>6</td>\n      <td>6</td>\n      <td>6.0</td>\n      <td>0.0</td>\n      <td>0.0</td>\n      <td>0</td>\n      <td>0</td>\n      <td>0</td>\n      <td>0</td>\n      <td>1</td>\n      <td>1</td>\n      <td>0</td>\n      <td>0</td>\n      <td>1</td>\n      <td>9.0</td>\n      <td>6.0</td>\n      <td>6.0</td>\n      <td>20</td>\n      <td>0</td>\n      <td>0</td>\n      <td>0</td>\n      <td>0</td>\n      <td>0</td>\n      <td>0</td>\n      <td>1</td>\n      <td>6</td>\n      <td>1</td>\n      <td>6</td>\n      <td>29</td>\n      <td>256</td>\n      <td>0</td>\n      <td>20</td>\n      <td>0.0</td>\n      <td>0.0</td>\n      <td>0</td>\n      <td>0</td>\n      <td>0.0</td>\n      <td>0.0</td>\n      <td>0</td>\n      <td>0</td>\n      <td>BENIGN</td>\n    </tr>\n    <tr>\n      <th>2</th>\n      <td>55055</td>\n      <td>52</td>\n      <td>1</td>\n      <td>1</td>\n      <td>6</td>\n      <td>6</td>\n      <td>6</td>\n      <td>6</td>\n      <td>6.0</td>\n      <td>0.0</td>\n      <td>6</td>\n      <td>6</td>\n      <td>6.0</td>\n      <td>0.0</td>\n      <td>230769.2308</td>\n      <td>38461.53846</td>\n      <td>52.0</td>\n      <td>0.0</td>\n      <td>52</td>\n      <td>52</td>\n      <td>0</td>\n      <td>0.0</td>\n      <td>0.0</td>\n      <td>0</td>\n      <td>0</td>\n      <td>0</td>\n      <td>0.0</td>\n      <td>0.0</td>\n      <td>0</td>\n      <td>0</td>\n      <td>0</td>\n      <td>0</td>\n      <td>0</td>\n      <td>0</td>\n      <td>20</td>\n      <td>20</td>\n      <td>19230.769230</td>\n      <td>19230.769230</td>\n      <td>6</td>\n      <td>6</td>\n      <td>6.0</td>\n      <td>0.0</td>\n      <td>0.0</td>\n      <td>0</td>\n      <td>0</td>\n      <td>0</td>\n      <td>0</td>\n      <td>1</td>\n      <td>1</td>\n      <td>0</td>\n      <td>0</td>\n      <td>1</td>\n      <td>9.0</td>\n      <td>6.0</td>\n      <td>6.0</td>\n      <td>20</td>\n      <td>0</td>\n      <td>0</td>\n      <td>0</td>\n      <td>0</td>\n      <td>0</td>\n      <td>0</td>\n      <td>1</td>\n      <td>6</td>\n      <td>1</td>\n      <td>6</td>\n      <td>29</td>\n      <td>256</td>\n      <td>0</td>\n      <td>20</td>\n      <td>0.0</td>\n      <td>0.0</td>\n      <td>0</td>\n      <td>0</td>\n      <td>0.0</td>\n      <td>0.0</td>\n      <td>0</td>\n      <td>0</td>\n      <td>BENIGN</td>\n    </tr>\n    <tr>\n      <th>3</th>\n      <td>46236</td>\n      <td>34</td>\n      <td>1</td>\n      <td>1</td>\n      <td>6</td>\n      <td>6</td>\n      <td>6</td>\n      <td>6</td>\n      <td>6.0</td>\n      <td>0.0</td>\n      <td>6</td>\n      <td>6</td>\n      <td>6.0</td>\n      <td>0.0</td>\n      <td>352941.1765</td>\n      <td>58823.52941</td>\n      <td>34.0</td>\n      <td>0.0</td>\n      <td>34</td>\n      <td>34</td>\n      <td>0</td>\n      <td>0.0</td>\n      <td>0.0</td>\n      <td>0</td>\n      <td>0</td>\n      <td>0</td>\n      <td>0.0</td>\n      <td>0.0</td>\n      <td>0</td>\n      <td>0</td>\n      <td>0</td>\n      <td>0</td>\n      <td>0</td>\n      <td>0</td>\n      <td>20</td>\n      <td>20</td>\n      <td>29411.764710</td>\n      <td>29411.764710</td>\n      <td>6</td>\n      <td>6</td>\n      <td>6.0</td>\n      <td>0.0</td>\n      <td>0.0</td>\n      <td>0</td>\n      <td>0</td>\n      <td>0</td>\n      <td>0</td>\n      <td>1</td>\n      <td>1</td>\n      <td>0</td>\n      <td>0</td>\n      <td>1</td>\n      <td>9.0</td>\n      <td>6.0</td>\n      <td>6.0</td>\n      <td>20</td>\n      <td>0</td>\n      <td>0</td>\n      <td>0</td>\n      <td>0</td>\n      <td>0</td>\n      <td>0</td>\n      <td>1</td>\n      <td>6</td>\n      <td>1</td>\n      <td>6</td>\n      <td>31</td>\n      <td>329</td>\n      <td>0</td>\n      <td>20</td>\n      <td>0.0</td>\n      <td>0.0</td>\n      <td>0</td>\n      <td>0</td>\n      <td>0.0</td>\n      <td>0.0</td>\n      <td>0</td>\n      <td>0</td>\n      <td>BENIGN</td>\n    </tr>\n    <tr>\n      <th>4</th>\n      <td>54863</td>\n      <td>3</td>\n      <td>2</td>\n      <td>0</td>\n      <td>12</td>\n      <td>0</td>\n      <td>6</td>\n      <td>6</td>\n      <td>6.0</td>\n      <td>0.0</td>\n      <td>0</td>\n      <td>0</td>\n      <td>0.0</td>\n      <td>0.0</td>\n      <td>4000000</td>\n      <td>666666.6667</td>\n      <td>3.0</td>\n      <td>0.0</td>\n      <td>3</td>\n      <td>3</td>\n      <td>3</td>\n      <td>3.0</td>\n      <td>0.0</td>\n      <td>3</td>\n      <td>3</td>\n      <td>0</td>\n      <td>0.0</td>\n      <td>0.0</td>\n      <td>0</td>\n      <td>0</td>\n      <td>0</td>\n      <td>0</td>\n      <td>0</td>\n      <td>0</td>\n      <td>40</td>\n      <td>0</td>\n      <td>666666.666700</td>\n      <td>0.000000</td>\n      <td>6</td>\n      <td>6</td>\n      <td>6.0</td>\n      <td>0.0</td>\n      <td>0.0</td>\n      <td>0</td>\n      <td>0</td>\n      <td>0</td>\n      <td>0</td>\n      <td>1</td>\n      <td>0</td>\n      <td>0</td>\n      <td>0</td>\n      <td>0</td>\n      <td>9.0</td>\n      <td>6.0</td>\n      <td>0.0</td>\n      <td>40</td>\n      <td>0</td>\n      <td>0</td>\n      <td>0</td>\n      <td>0</td>\n      <td>0</td>\n      <td>0</td>\n      <td>2</td>\n      <td>12</td>\n      <td>0</td>\n      <td>0</td>\n      <td>32</td>\n      <td>-1</td>\n      <td>1</td>\n      <td>20</td>\n      <td>0.0</td>\n      <td>0.0</td>\n      <td>0</td>\n      <td>0</td>\n      <td>0.0</td>\n      <td>0.0</td>\n      <td>0</td>\n      <td>0</td>\n      <td>BENIGN</td>\n    </tr>\n  </tbody>\n</table>\n</div>"
          },
          "metadata": {}
        }
      ]
    },
    {
      "cell_type": "code",
      "source": [
        "for i, col in enumerate(df.columns):\n",
        "    print(i, col)"
      ],
      "metadata": {
        "execution": {
          "iopub.status.busy": "2023-02-27T15:25:33.027380Z",
          "iopub.execute_input": "2023-02-27T15:25:33.027689Z",
          "iopub.status.idle": "2023-02-27T15:25:33.043083Z",
          "shell.execute_reply.started": "2023-02-27T15:25:33.027632Z",
          "shell.execute_reply": "2023-02-27T15:25:33.041876Z"
        },
        "trusted": true,
        "id": "4wJogxhIYyf-",
        "outputId": "a7406959-3c2c-4c6a-a45a-fb4bf1eb44bd"
      },
      "execution_count": null,
      "outputs": [
        {
          "name": "stdout",
          "text": "0  Destination Port\n1  Flow Duration\n2  Total Fwd Packets\n3  Total Backward Packets\n4 Total Length of Fwd Packets\n5  Total Length of Bwd Packets\n6  Fwd Packet Length Max\n7  Fwd Packet Length Min\n8  Fwd Packet Length Mean\n9  Fwd Packet Length Std\n10 Bwd Packet Length Max\n11  Bwd Packet Length Min\n12  Bwd Packet Length Mean\n13  Bwd Packet Length Std\n14 Flow Bytes/s\n15  Flow Packets/s\n16  Flow IAT Mean\n17  Flow IAT Std\n18  Flow IAT Max\n19  Flow IAT Min\n20 Fwd IAT Total\n21  Fwd IAT Mean\n22  Fwd IAT Std\n23  Fwd IAT Max\n24  Fwd IAT Min\n25 Bwd IAT Total\n26  Bwd IAT Mean\n27  Bwd IAT Std\n28  Bwd IAT Max\n29  Bwd IAT Min\n30 Fwd PSH Flags\n31  Bwd PSH Flags\n32  Fwd URG Flags\n33  Bwd URG Flags\n34  Fwd Header Length\n35  Bwd Header Length\n36 Fwd Packets/s\n37  Bwd Packets/s\n38  Min Packet Length\n39  Max Packet Length\n40  Packet Length Mean\n41  Packet Length Std\n42  Packet Length Variance\n43 FIN Flag Count\n44  SYN Flag Count\n45  RST Flag Count\n46  PSH Flag Count\n47  ACK Flag Count\n48  URG Flag Count\n49  CWE Flag Count\n50  ECE Flag Count\n51  Down/Up Ratio\n52  Average Packet Size\n53  Avg Fwd Segment Size\n54  Avg Bwd Segment Size\n55  Fwd Header Length.1\n56 Fwd Avg Bytes/Bulk\n57  Fwd Avg Packets/Bulk\n58  Fwd Avg Bulk Rate\n59  Bwd Avg Bytes/Bulk\n60  Bwd Avg Packets/Bulk\n61 Bwd Avg Bulk Rate\n62 Subflow Fwd Packets\n63  Subflow Fwd Bytes\n64  Subflow Bwd Packets\n65  Subflow Bwd Bytes\n66 Init_Win_bytes_forward\n67  Init_Win_bytes_backward\n68  act_data_pkt_fwd\n69  min_seg_size_forward\n70 Active Mean\n71  Active Std\n72  Active Max\n73  Active Min\n74 Idle Mean\n75  Idle Std\n76  Idle Max\n77  Idle Min\n78  Label\n",
          "output_type": "stream"
        }
      ]
    },
    {
      "cell_type": "code",
      "source": [
        "#Split dataset on train and test\n",
        "from sklearn.model_selection import train_test_split\n",
        "train, test=train_test_split(df,test_size=0.3, random_state=10)\n",
        "\n",
        "#Exploratory Analysis\n",
        "# Descriptive statistics\n",
        "train.describe()\n",
        "test.describe()\n",
        "\n",
        "# Packet Attack Distribution\n",
        "train[' Label'].value_counts()\n",
        "test[' Label'].value_counts()"
      ],
      "metadata": {
        "execution": {
          "iopub.status.busy": "2023-02-27T15:25:33.052611Z",
          "iopub.execute_input": "2023-02-27T15:25:33.052904Z",
          "iopub.status.idle": "2023-02-27T15:25:45.456489Z",
          "shell.execute_reply.started": "2023-02-27T15:25:33.052858Z",
          "shell.execute_reply": "2023-02-27T15:25:45.454429Z"
        },
        "trusted": true,
        "id": "Rz0B5bAAYygJ",
        "outputId": "1948db71-0cff-4281-8ab8-d8cecff6a064"
      },
      "execution_count": null,
      "outputs": [
        {
          "execution_count": 61,
          "output_type": "execute_result",
          "data": {
            "text/plain": "BENIGN                        682092\nDoS Hulk                       69066\nPortScan                       47841\nDDoS                           38346\nDoS GoldenEye                   3041\nFTP-Patator                     2359\nSSH-Patator                     1786\nDoS slowloris                   1764\nDoS Slowhttptest                1649\nBot                              580\nWeb Attack � Brute Force         465\nWeb Attack � XSS                 203\nInfiltration                      21\nWeb Attack � Sql Injection         8\nHeartbleed                         2\nName:  Label, dtype: int64"
          },
          "metadata": {}
        }
      ]
    },
    {
      "cell_type": "markdown",
      "source": [
        "# Classification"
      ],
      "metadata": {
        "id": "zWiD4gmPYygQ"
      }
    },
    {
      "cell_type": "markdown",
      "source": [
        "### Data preprocess"
      ],
      "metadata": {
        "id": "NB8BQP_oYygR"
      }
    },
    {
      "cell_type": "code",
      "source": [
        "#Scalling numerical attributes\n",
        "from sklearn.preprocessing import StandardScaler\n",
        "scaler = StandardScaler()\n",
        "\n",
        "# extract numerical attributes and scale it to have zero mean and unit variance  \n",
        "cols = train.select_dtypes(include=['float64','int64']).columns\n",
        "sc_train = scaler.fit_transform(train.select_dtypes(include=['float64','int64']))\n",
        "sc_test = scaler.fit_transform(test.select_dtypes(include=['float64','int64']))\n",
        "\n",
        "# turn the result back to a dataframe\n",
        "sc_traindf = pd.DataFrame(sc_train, columns = cols)\n",
        "sc_testdf = pd.DataFrame(sc_test, columns = cols)"
      ],
      "metadata": {
        "execution": {
          "iopub.status.busy": "2023-02-27T15:25:45.460736Z",
          "iopub.execute_input": "2023-02-27T15:25:45.460995Z",
          "iopub.status.idle": "2023-02-27T15:25:51.300827Z",
          "shell.execute_reply.started": "2023-02-27T15:25:45.460962Z",
          "shell.execute_reply": "2023-02-27T15:25:51.299779Z"
        },
        "trusted": true,
        "id": "w6FSkj_MYygS"
      },
      "execution_count": null,
      "outputs": []
    },
    {
      "cell_type": "code",
      "source": [
        "# importing one hot encoder from sklearn \n",
        "from sklearn.preprocessing import OneHotEncoder \n",
        "\n",
        "# creating one hot encoder object \n",
        "onehotencoder = OneHotEncoder() \n",
        "\n",
        "trainDep = train[' Label'].values.reshape(-1,1)\n",
        "trainDep = onehotencoder.fit_transform(trainDep).toarray()\n",
        "testDep = test[' Label'].values.reshape(-1,1)\n",
        "testDep = onehotencoder.fit_transform(testDep).toarray()"
      ],
      "metadata": {
        "execution": {
          "iopub.status.busy": "2023-02-27T15:25:51.302164Z",
          "iopub.execute_input": "2023-02-27T15:25:51.302412Z",
          "iopub.status.idle": "2023-02-27T15:25:52.146602Z",
          "shell.execute_reply.started": "2023-02-27T15:25:51.302365Z",
          "shell.execute_reply": "2023-02-27T15:25:52.144994Z"
        },
        "trusted": true,
        "id": "HUiWGq_EYygT"
      },
      "execution_count": null,
      "outputs": []
    },
    {
      "cell_type": "code",
      "source": [
        "train_X=sc_traindf\n",
        "train_y=trainDep[:,0]\n",
        "\n",
        "test_X=sc_testdf\n",
        "test_y=testDep[:,0]"
      ],
      "metadata": {
        "execution": {
          "iopub.status.busy": "2023-02-27T15:25:52.148543Z",
          "iopub.execute_input": "2023-02-27T15:25:52.148875Z",
          "iopub.status.idle": "2023-02-27T15:25:52.168910Z",
          "shell.execute_reply.started": "2023-02-27T15:25:52.148815Z",
          "shell.execute_reply": "2023-02-27T15:25:52.167329Z"
        },
        "trusted": true,
        "id": "hUOeQ3mLYygV"
      },
      "execution_count": null,
      "outputs": []
    },
    {
      "cell_type": "markdown",
      "source": [
        "### Features Selection with Feature Importance Calculation by RFC"
      ],
      "metadata": {
        "id": "YZ_Lkl-pYygW"
      }
    },
    {
      "cell_type": "code",
      "source": [
        "#we can verify our results by of important features by using following function\n",
        "from sklearn.ensemble import RandomForestClassifier\n",
        "from sklearn.feature_selection import SelectFromModel #selection function already made by library\n",
        "selector = SelectFromModel(RandomForestClassifier(n_estimators = 100,n_jobs=-1))#applying forest classification\n",
        "selector.fit(train_X, train_y) \n",
        "\n"
      ],
      "metadata": {
        "execution": {
          "iopub.status.busy": "2023-02-27T15:25:52.170870Z",
          "iopub.execute_input": "2023-02-27T15:25:52.171202Z",
          "iopub.status.idle": "2023-02-27T15:33:07.963140Z",
          "shell.execute_reply.started": "2023-02-27T15:25:52.171123Z",
          "shell.execute_reply": "2023-02-27T15:33:07.961644Z"
        },
        "trusted": true,
        "id": "F07HVXCdYygX",
        "outputId": "f28d6d93-5f72-446a-e92f-04643f9c5011"
      },
      "execution_count": null,
      "outputs": [
        {
          "execution_count": 65,
          "output_type": "execute_result",
          "data": {
            "text/plain": "SelectFromModel(estimator=RandomForestClassifier(bootstrap=True,\n                                                 class_weight=None,\n                                                 criterion='gini',\n                                                 max_depth=None,\n                                                 max_features='auto',\n                                                 max_leaf_nodes=None,\n                                                 min_impurity_decrease=0.0,\n                                                 min_impurity_split=None,\n                                                 min_samples_leaf=1,\n                                                 min_samples_split=2,\n                                                 min_weight_fraction_leaf=0.0,\n                                                 n_estimators=100, n_jobs=-1,\n                                                 oob_score=False,\n                                                 random_state=None, verbose=0,\n                                                 warm_start=False),\n                max_features=None, norm_order=1, prefit=False, threshold=None)"
          },
          "metadata": {}
        }
      ]
    },
    {
      "cell_type": "code",
      "source": [
        "selected_feat= train_X.columns[(selector.get_support())]#extracing the important features\n",
        "print(selected_feat)\n",
        "print(type(selected_feat))"
      ],
      "metadata": {
        "execution": {
          "iopub.status.busy": "2023-02-27T15:33:07.964584Z",
          "iopub.execute_input": "2023-02-27T15:33:07.964824Z",
          "iopub.status.idle": "2023-02-27T15:33:08.073419Z",
          "shell.execute_reply.started": "2023-02-27T15:33:07.964782Z",
          "shell.execute_reply": "2023-02-27T15:33:08.072597Z"
        },
        "trusted": true,
        "id": "Nb9v0TJkYygY",
        "outputId": "25679428-79e8-4f7c-be8f-1dc07b630a53"
      },
      "execution_count": null,
      "outputs": [
        {
          "name": "stdout",
          "text": "Index([' Destination Port', 'Total Length of Fwd Packets',\n       ' Total Length of Bwd Packets', ' Fwd Packet Length Max',\n       ' Fwd Packet Length Mean', 'Bwd Packet Length Max',\n       ' Bwd Packet Length Mean', ' Bwd Packet Length Std',\n       ' Fwd Header Length', ' Bwd Header Length', ' Max Packet Length',\n       ' Packet Length Std', ' Packet Length Variance', ' Average Packet Size',\n       ' Avg Fwd Segment Size', ' Avg Bwd Segment Size',\n       ' Fwd Header Length.1', ' Subflow Fwd Bytes', ' Subflow Bwd Bytes',\n       'Init_Win_bytes_forward', ' Init_Win_bytes_backward'],\n      dtype='object')\n<class 'pandas.core.indexes.base.Index'>\n",
          "output_type": "stream"
        }
      ]
    },
    {
      "cell_type": "code",
      "source": [
        "import itertools\n",
        "# summarize the selection of the attributes\n",
        "feature_map = [(i, v) for i, v in itertools.zip_longest(selector.get_support(), train_X.columns)]\n",
        "selected_features = [v for i, v in feature_map if i==True]"
      ],
      "metadata": {
        "execution": {
          "iopub.status.busy": "2023-02-27T15:33:08.075085Z",
          "iopub.execute_input": "2023-02-27T15:33:08.075468Z",
          "iopub.status.idle": "2023-02-27T15:33:08.185926Z",
          "shell.execute_reply.started": "2023-02-27T15:33:08.075419Z",
          "shell.execute_reply": "2023-02-27T15:33:08.184448Z"
        },
        "trusted": true,
        "id": "pExVb7WXYygZ"
      },
      "execution_count": null,
      "outputs": []
    },
    {
      "cell_type": "code",
      "source": [
        "a = [i[0] for i in feature_map]\n",
        "train_X = train_X.iloc[:,a]\n",
        "test_X = test_X.iloc[:,a]"
      ],
      "metadata": {
        "execution": {
          "iopub.status.busy": "2023-02-27T15:33:08.187066Z",
          "iopub.execute_input": "2023-02-27T15:33:08.187325Z",
          "iopub.status.idle": "2023-02-27T15:33:08.281138Z",
          "shell.execute_reply.started": "2023-02-27T15:33:08.187294Z",
          "shell.execute_reply": "2023-02-27T15:33:08.280097Z"
        },
        "trusted": true,
        "id": "a4mE1JrJYyga"
      },
      "execution_count": null,
      "outputs": []
    },
    {
      "cell_type": "markdown",
      "source": [
        "# Decision Tree Classifier Model"
      ],
      "metadata": {
        "id": "NHppZUyzYyga"
      }
    },
    {
      "cell_type": "code",
      "source": [
        "#Dataset Partition\n",
        "X_train,X_test,Y_train,Y_test = train_test_split(train_X,train_y,train_size=0.70, random_state=2)\n",
        "\n",
        "#Fitting Models\n",
        "from sklearn.tree import DecisionTreeClassifier\n",
        "from sklearn.model_selection import cross_val_score\n",
        "\n",
        "\n",
        "# Train Decision Tree Model\n",
        "DTC_Classifier = DecisionTreeClassifier(criterion='entropy', random_state=0)\n",
        "DTC_Classifier.fit(X_train, Y_train)"
      ],
      "metadata": {
        "execution": {
          "iopub.status.busy": "2023-02-27T15:33:08.282524Z",
          "iopub.execute_input": "2023-02-27T15:33:08.282783Z",
          "iopub.status.idle": "2023-02-27T15:33:43.351574Z",
          "shell.execute_reply.started": "2023-02-27T15:33:08.282739Z",
          "shell.execute_reply": "2023-02-27T15:33:43.349934Z"
        },
        "trusted": true,
        "id": "ig2xfMqOYygb",
        "outputId": "e7c19e44-0401-4047-aaa3-f2adf91a9c6f"
      },
      "execution_count": null,
      "outputs": [
        {
          "execution_count": 69,
          "output_type": "execute_result",
          "data": {
            "text/plain": "DecisionTreeClassifier(class_weight=None, criterion='entropy', max_depth=None,\n                       max_features=None, max_leaf_nodes=None,\n                       min_impurity_decrease=0.0, min_impurity_split=None,\n                       min_samples_leaf=1, min_samples_split=2,\n                       min_weight_fraction_leaf=0.0, presort=False,\n                       random_state=0, splitter='best')"
          },
          "metadata": {}
        }
      ]
    },
    {
      "cell_type": "markdown",
      "source": [
        "### Training Results"
      ],
      "metadata": {
        "id": "d13J0M-kYygf"
      }
    },
    {
      "cell_type": "code",
      "source": [
        "#Evaluate Models\n",
        "from sklearn import metrics\n",
        "\n",
        "\n",
        "scores = cross_val_score(DTC_Classifier, X_train, Y_train, cv=10)\n",
        "accuracy = metrics.accuracy_score(Y_train,DTC_Classifier.predict(X_train))\n",
        "classification_report_tree = metrics.classification_report(Y_train, DTC_Classifier.predict(X_train))\n",
        "print()\n",
        "print('============================== {} Model Evaluation =============================='.format(i))\n",
        "print()\n",
        "print (\"Cross Validation Mean Score:\" \"\\n\", scores.mean())\n",
        "print()\n",
        "print (\"Model Accuracy:\" \"\\n\", accuracy)\n",
        "print()\n",
        "print(\"Classification report:\" \"\\n\", classification_report_tree) \n",
        "print()"
      ],
      "metadata": {
        "execution": {
          "iopub.status.busy": "2023-02-27T15:33:43.353712Z",
          "iopub.execute_input": "2023-02-27T15:33:43.354083Z",
          "iopub.status.idle": "2023-02-27T15:38:22.738569Z",
          "shell.execute_reply.started": "2023-02-27T15:33:43.354025Z",
          "shell.execute_reply": "2023-02-27T15:38:22.736527Z"
        },
        "trusted": true,
        "id": "DMxmOMd8Yygf",
        "outputId": "2f4e4483-7254-4324-d24c-c83d85d79b2c"
      },
      "execution_count": null,
      "outputs": [
        {
          "name": "stdout",
          "text": "\n============================== 78 Model Evaluation ==============================\n\nCross Validation Mean Score:\n 0.9983165882041881\n\nModel Accuracy:\n 0.9984651032684865\n\nClassification report:\n               precision    recall  f1-score   support\n\n         0.0       1.00      1.00      1.00    273562\n         1.0       1.00      1.00      1.00   1113502\n\n    accuracy                           1.00   1387064\n   macro avg       1.00      1.00      1.00   1387064\nweighted avg       1.00      1.00      1.00   1387064\n\n\n",
          "output_type": "stream"
        }
      ]
    },
    {
      "cell_type": "code",
      "source": [
        "import seaborn as sn\n",
        "\n",
        "confusion_matrix = metrics.confusion_matrix(Y_train, DTC_Classifier.predict(X_train))\n",
        "sn.heatmap(confusion_matrix, annot=True,  fmt='.2f', xticklabels = [1, 0] , yticklabels = [1,0],cbar=True)\n",
        "plt.xlabel('True labels',fontsize=12)\n",
        "plt.ylabel('Predicted labels',fontsize=12)\n",
        "\n",
        "#sn.set(rc={'figure.figsize':(8,8)})"
      ],
      "metadata": {
        "execution": {
          "iopub.status.busy": "2023-02-27T15:38:22.739925Z",
          "iopub.execute_input": "2023-02-27T15:38:22.740384Z",
          "iopub.status.idle": "2023-02-27T15:38:24.478265Z",
          "shell.execute_reply.started": "2023-02-27T15:38:22.740176Z",
          "shell.execute_reply": "2023-02-27T15:38:24.477567Z"
        },
        "trusted": true,
        "id": "0c_BUWYOYygg",
        "outputId": "517b28d7-0cc1-4785-9bab-c4c00b27df0a"
      },
      "execution_count": null,
      "outputs": [
        {
          "execution_count": 71,
          "output_type": "execute_result",
          "data": {
            "text/plain": "Text(48.5, 0.5, 'Predicted labels')"
          },
          "metadata": {}
        },
        {
          "output_type": "display_data",
          "data": {
            "text/plain": "<Figure size 576x576 with 2 Axes>",
            "image/png": "[encoded data removed]"
          },
          "metadata": {}
        }
      ]
    },
    {
      "cell_type": "markdown",
      "source": [
        "### Testing Results"
      ],
      "metadata": {
        "id": "KNh9e4JmYygh"
      }
    },
    {
      "cell_type": "code",
      "source": [
        "accuracy = metrics.accuracy_score(Y_test, DTC_Classifier.predict(X_test))\n",
        "classification = metrics.classification_report(Y_test, DTC_Classifier.predict(X_test))\n",
        "print()\n",
        "print('============================== {} Model Test Results =============================='.format(i))\n",
        "print()\n",
        "print (\"Model Accuracy:\" \"\\n\", accuracy)\n",
        "print()\n",
        "print(\"Classification report:\" \"\\n\", classification)\n",
        "print()        "
      ],
      "metadata": {
        "execution": {
          "iopub.status.busy": "2023-02-27T15:38:24.479699Z",
          "iopub.execute_input": "2023-02-27T15:38:24.480134Z",
          "iopub.status.idle": "2023-02-27T15:38:26.010482Z",
          "shell.execute_reply.started": "2023-02-27T15:38:24.480088Z",
          "shell.execute_reply": "2023-02-27T15:38:26.009405Z"
        },
        "trusted": true,
        "id": "GzAklaI5Yygh",
        "outputId": "b0b8ec03-3784-4de5-9c1b-5fb5581d4470"
      },
      "execution_count": null,
      "outputs": [
        {
          "name": "stdout",
          "text": "\n============================== 78 Model Test Results ==============================\n\nModel Accuracy:\n 0.9982959209764894\n\nClassification report:\n               precision    recall  f1-score   support\n\n         0.0       1.00      0.99      1.00    116953\n         1.0       1.00      1.00      1.00    477503\n\n    accuracy                           1.00    594456\n   macro avg       1.00      1.00      1.00    594456\nweighted avg       1.00      1.00      1.00    594456\n\n\n",
          "output_type": "stream"
        }
      ]
    },
    {
      "cell_type": "code",
      "source": [
        "confusion_matrix = metrics.confusion_matrix(Y_test, DTC_Classifier.predict(X_test))\n",
        "sn.heatmap(confusion_matrix, annot=True,  fmt='.2f', xticklabels = [1, 0] , yticklabels = [1,0],cbar=True)\n",
        "plt.xlabel('True labels',fontsize=12)\n",
        "plt.ylabel('Predicted labels',fontsize=12)\n",
        "\n",
        "#sn.set(rc={'figure.figsize':(8,8)})"
      ],
      "metadata": {
        "execution": {
          "iopub.status.busy": "2023-02-27T15:38:26.011938Z",
          "iopub.execute_input": "2023-02-27T15:38:26.012273Z",
          "iopub.status.idle": "2023-02-27T15:38:26.858920Z",
          "shell.execute_reply.started": "2023-02-27T15:38:26.012208Z",
          "shell.execute_reply": "2023-02-27T15:38:26.858236Z"
        },
        "trusted": true,
        "id": "2DvoyRkrYygi",
        "outputId": "32921d5a-6ade-4d15-c098-e04d94c6912a"
      },
      "execution_count": null,
      "outputs": [
        {
          "execution_count": 73,
          "output_type": "execute_result",
          "data": {
            "text/plain": "Text(48.5, 0.5, 'Predicted labels')"
          },
          "metadata": {}
        },
        {
          "output_type": "display_data",
          "data": {
            "text/plain": "<Figure size 576x576 with 2 Axes>",
            "image/png": "[encoded data removed]"
          },
          "metadata": {}
        }
      ]
    },
    {
      "cell_type": "code",
      "source": [
        "import pickle\n",
        "\n",
        "pickle.dump(DTC_Classifier, open(\"CIC_ML_DT.pkl\", \"wb\"))"
      ],
      "metadata": {
        "execution": {
          "iopub.status.busy": "2023-02-27T15:39:31.491369Z",
          "iopub.execute_input": "2023-02-27T15:39:31.491888Z",
          "iopub.status.idle": "2023-02-27T15:39:31.498740Z",
          "shell.execute_reply.started": "2023-02-27T15:39:31.491848Z",
          "shell.execute_reply": "2023-02-27T15:39:31.497874Z"
        },
        "trusted": true,
        "id": "aXnzWivYYygi"
      },
      "execution_count": null,
      "outputs": []
    }
  ]
}